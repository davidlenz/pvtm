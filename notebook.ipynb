{
 "cells": [
  {
   "cell_type": "code",
   "execution_count": 85,
   "metadata": {},
   "outputs": [
    {
     "name": "stdout",
     "output_type": "stream",
     "text": [
      "C:\\Users\\Viktoria\\Desktop\\Github\\pvtm\\data\\heise\\heise.txt\n"
     ]
    }
   ],
   "source": [
    "# multiple output lines \n",
    "from IPython.core.interactiveshell import InteractiveShell\n",
    "InteractiveShell.ast_node_interactivity = \"all\"\n",
    "import os\n",
    "input_dir_raw = 'data/heise/'\n",
    "input_file = os.path.join(os.path.abspath(input_dir_raw), 'heise.txt')\n",
    "print(input_file)\n",
    "with open(input_file, 'r', encoding='utf-8') as file:\n",
    "    #line for line in file:\n",
    "        \n",
    "    \n",
    "    _input = file.readlines()\n",
    "    \n",
    "    \n",
    "len(_input)\n",
    "_input=_input[:100]"
   ]
  },
  {
   "cell_type": "code",
   "execution_count": 2,
   "metadata": {},
   "outputs": [
    {
     "data": {
      "text/plain": [
       "'C:\\\\Users\\\\Viktoria\\\\Desktop\\\\Github\\\\pvtm'"
      ]
     },
     "execution_count": 2,
     "metadata": {},
     "output_type": "execute_result"
    }
   ],
   "source": [
    "%pwd"
   ]
  },
  {
   "cell_type": "code",
   "execution_count": 4,
   "metadata": {},
   "outputs": [
    {
     "name": "stderr",
     "output_type": "stream",
     "text": [
      "C:\\Users\\Viktoria\\Anaconda3\\lib\\site-packages\\gensim\\utils.py:1197: UserWarning: detected Windows; aliasing chunkize to chunkize_serial\n",
      "  warnings.warn(\"detected Windows; aliasing chunkize to chunkize_serial\")\n"
     ]
    }
   ],
   "source": [
    "%load_ext autoreload\n",
    "%autoreload 1\n",
    "# %aimport dlutils"
   ]
  },
  {
   "cell_type": "markdown",
   "metadata": {},
   "source": [
    "# Embeddings with DocumentPoolembeddings"
   ]
  },
  {
   "cell_type": "code",
   "execution_count": 4,
   "metadata": {},
   "outputs": [
    {
     "name": "stdout",
     "output_type": "stream",
     "text": [
      "0.01 0.5\n",
      "9375 words in the vocabulary\n"
     ]
    }
   ],
   "source": [
    "import flair\n",
    "from dlutils import dlutils\n",
    "_input = [dlutils.preprocess_document(x) for x in _input]\n",
    "_input, vocab = dlutils.popularity_based_prefiltering(_input, min_df = 0.01, max_df = 0.5, stopwords = dlutils.easy_stopwords())\n",
    "n_topics = int(len(vocab)/ 100)"
   ]
  },
  {
   "cell_type": "code",
   "execution_count": 95,
   "metadata": {},
   "outputs": [
    {
     "data": {
      "text/plain": [
       "'Monsanto Attacks Scientists After Studies Show Trouble For Its New Weedkiller   The SaltScientists are accusing the seed and pesticide giant Monsanto of denying the risks of its latest weedkilling technology  Monsanto has responded by attacking some of its scientific critics Monsanto Attacks Scientists After Studies Show Trouble For Its New WeedkillerBob Scott  an expert on weeds with the University of Arkansas  in a research plot where soybeans were exposed to dicamba vapor  Dan Charles  NPR hide captiontoggle captionDan Charles  NPRBob Scott  an expert on weeds with the University of Arkansas  in a research plot where soybeans were exposed to dicamba vapor Dan Charles  NPRIn a normal year  Kevin Bradley  a professor of weed science at the University of Missouri  would have spent his summer testing new ways to control a troublesome little plant called water hemp This has not been a normal year  I don t even talk about weed management anymore   Bradley tells me  and he sounds disgusted   Nobody calls me and ask me those questions  I barely have time to even work with my graduate students  Everything is about dicamba  Every single day  Dicamba  an old weedkiller that s now being used in new ways  has thrust Bradley and half a dozen other university weed scientists into the unfamiliar role of whistleblower  confronting what they believe are misleading and scientifically unfounded claims by one of the country s biggest seed and pesticide companies  Monsanto  It s not comfortable  I m like anybody else  I don t like  it when  people are unhappy with me   says Mike Owen  a weed specialist at Iowa State University  Then he chuckles   But sometimes  like John Wayne said  a man s got to do what a man s got to do   Certainly  there s not a weed scientist in any of these states who would back down  who would change their story   says Aaron Hager  at the University of Illinois The tensions between Monsanto and the nation s weed scientists actually began several years ago  when Monsanto first moved to make dicamba the centerpiece of a new weedkilling strategy  The company tweaked the genes in soybeans and cotton and created new genetically modified varieties of those crops that can tolerate doses of dicamba   Normally  dicamba kills those crops   This allowed farmers to spray the weedkiller directly on their soybean or cotton plants  killing the weeds while their crops survived It s an approach that Monsanto pioneered with crops that were genetically modified to tolerate glyphosate  or Roundup  After two decades of heavy exposure to glyphosate  however  devastating weeds like Palmer amaranth  or pigweed  evolved resistance to it  Farmers are looking for new weedkilling tools Dicamba  however  has a well known defect  It s volatile  it tends to evaporate from the soil or vegetation where it s been sprayed  creating a cloud of plant killing vapor that can spread in unpredictable directions  It happens more in hot weather  and Monsanto s new strategy inevitably would mean spraying dicamba in the heat of summer Monsanto and two other chemical companies  BASF and DuPont  announced that they had solved this problem with new  low volatility  formulations of dicamba that don t evaporate so easily  Yet the companies   especially Monsanto   made it difficult for university scientists to verify those claims with independent tests before the products were released commercially  I wish we could have done more testing  We ve been asking to do more testing for several years  but the product was not made available to us   says Bob Scott  a weed scientist at the University of Arkansas   These are proprietary products  Until they release those formulations for testing  we re not allowed to  test them   To make matters worse  Monsanto started selling its new dicamba tolerant soybeans in 2016  before the new low volatility formulations of dicamba were even approved for sale  It tempted farmers to use older versions of dicamba on these crops  illegally  and some farmers couldn t resist that temptation  In Arkansas  there were widespread reports that dicamba was damaging neighboring fields that didn t have the benefit of Monsanto s new genes  In one case  a dispute between farmers led to a fatal shooting That fall  at a meeting of weed scientists  Hager confronted Monsanto s representatives  According to Hager  he told the company that  you knowingly released these varieties in an area of the U S  where you knew that glyphosate resistance  in weeds  was rampant  When you did that     you knew what was going to happen   I got a blank stare   Hager recalls This past summer  the floodgates on dicamba use opened  The new formulations of dicamba were approved for use  although Arkansas only allowed farmers to use BASF s product  not Monsanto s  and farmers rushed to adopt the new technology  They planted dicamba tolerant crops on 26 million acres A farmer s nightmare weed  glyphosate resistant Palmer amaranth  or pigweed  in a soybean field in Arkansas  Dan Charles  NPR hide captiontoggle captionDan Charles  NPR The demand for it is overwhelming  The need to control these difficult to manage weeds is huge   says Scott Partridge  Monsanto s Vice President of Global Strategy When spraying started  complaints rolled in  The new  low volatility  versions of dicamba didn t stay where they belonged  They drifted into nearby fields  damaging crops there   mostly soybeans  but also vegetables and orchards  There were reports of damage from Mississippi to Minnesota  but the problem was worst in Arkansas  Missouri and Tennessee  By the end of May  first of June  it became impossible  the calls were coming in  three or four a day  Sometimes eight or 12 a day   says the University of Arkansas  Scott   There is no precedent for what we ve seen this year  At first  the companies selling these herbicides   both Monsanto and BASF   seemed unconcerned  All I got was denial that there was a problem   Bradley says   What I kept hearing was  it s not a big problem nationwide  we always have these kinds of mistakes or accidents with the introduction of any new technology  So Bradley  a past president of the Weed Science Society of America  started collecting data on crop damage from across the country  mapping the epidemic  By the end of the summer  Bradley estimated that at least 3 1 million acres of crops had shown some injury from drifting dicamba With the scale of dicamba damage increasingly clear  a fierce debate erupted over its cause Monsanto s executives insist that it s because the people who sprayed dicamba were just learning how to do it properly  and didn t follow directions  Scott Partridge says his company checked out more than a thousand cases of dicamba damage   and in 88 percent of those instances  the label was not followed   Farmers or pesticide applicators sprayed dicamba too close to neighboring fields  didn t clean out their equipment properly  or used the wrong nozzles  Every one of those  mistakes  is fixable by education   Partridge says University weed scientists say that s only part of the explanation  and the problem can t be fixed so easily Bradley  Scott and their colleagues in other states say that much of the damage they saw this year didn t appear to come from  physical drift  of windblown droplets of dicamba  coming directly from a sprayer  Physical drift  they say  typically produces a plume of damage that diminishes with distance from the source of the spray  Instead  they saw entire hundred acre fields of soybeans with cupped leaves  and the damage was uniform from one end to the other  They also saw damage in orchards and fields that were far removed from any fields sprayed with dicamba This pattern  they say  looks more like what they d feared all along  volatilization Lyle Hadden  a soybean farmer  holds leaves and a stalk from a soybean plant in a field he s planted that shows signs of being affected by Dicamba  The Washington Post Getty Images hide captiontoggle captionThe Washington Post Getty ImagesWhat s more  the scientists say  field experiments that they finally carried out this summer point toward evaporating dicamba as a cause Bob Scott shows me one such experiment  a field of soybeans at a research station near Lonoke  Ark  Here  soybeans were injured by dicamba that definitely did not enter the field through mistakes in spraying  It s important to remember  we did not spray this plot   Soott says  Instead  at a location far away from this field  he and his colleagues sprayed trays of soil with various dicamba containing herbicides  Then they carried the trays into this field and placed them between the rows of soybeans for 48 hours  The trays and soybeans were protected underneath plastic hoops   essentially  miniature greenhouses   that were open at each end  The dicamba evaporated from the trays and injured the soybean plants nearby  curling their leaves and stunting their growth  A lot of people were very disappointed when they saw the plots   Scott says   A lot of people didn t want to see what they were seeing  and were in disbelief  These observations have huge implications  If the new formulations of dicamba evaporate and spread  they cannot easily be controlled  If this were any other product  I feel like it would be just pulled off the market  and we d be done with it   Scott says But dicamba  and the crops created to tolerate it  aren t just any products  There s big money behind them  Monsanto  seed dealers  farmers who are struggling with weed problems   they all have a stake in this technology  The university scientists who are pointing out problems with them are confronting an economic juggernaut Monsanto   and farmers who want to use dicamba   have been fighting back  In Arkansas  where state regulators proposed a ban on dicamba during the growing season next year  Monsanto recently sued the regulators  arguing that the ban was based on  unsubstantiated theories regarding product volatility that are contradicted by science   The company called on regulators to disregard information from Jason Norsworthy  one of the University of Arkansas  weed researchers  because he d recommended that farmers use a non dicamba alternative from a rival company  Monsanto also attacked the objectivity of Ford Baldwin  a former university weed scientist who now works as a consultant to farmers and herbicide companies  I read it as an attack on all of us  and anybody who dares to  gather  outside data   Bob Scott says   And some of my fellow weed scientists read it that way as well  Kevin Bradley  at the University of Missouri  says executives from Monsanto have made repeated calls to his supervisors   What the exact nature of those calls  was   I m not real sure   Bradley says   But I m pretty sure it has something to do with not being happy with what I m saying  I contacted three academic deans at the University of Missouri  asking for details about the calls  A university spokesman said they were too busy to respond  Monsanto s Scott Partridge  for his part  says that  we are not attacking Dr  Bradley  We respect him  his position  opinion  and his work  We respect him  and academics in general  Bradley says criticism from people in Missouri s farming community whom he s known for years hits him even harder   To have somebody say that what  I m  saying is bad for Missouri agriculture  that s a hard one to take   he says   There s not a lot of glory in these positions  or major financial incentive  We chose these jobs to help the farmers in our states  Monsanto s explanation for what happened this summer  and how to prevent it  seems to be carrying the day in Washington  D C  Two weeks ago  the Environmental Protection Agency announced that it will allow continued use of dicamba next year  The EPA is imposing a few additional restrictions on who can spray it  and when  Those restrictions will have little effect  or none at all  on damage caused by volatilization Arkansas  proposal to ban use of dicamba during the growing season next summer has not yet received final approval  A public hearing on the proposal is set for Nov  8 Kevin Bradley thinks there s one positive result from the controversy   It has made more farmers aware of what we do  and that is  unbiased research and calling it like we see it   he says Over the course of recent decades  publicly funded agricultural extension services have shrunk  and farmers have turned to seed and chemical companies for advice   It s become so weighted towards   well  the companies did their research  and it said this  so that must be the way it is   Bradley says   You know what  Maybe that s not the way it is  With a pinch of skepticism and a dash of fun  The Salt covers food news from the farm to the plate and beyond  You can connect with senior editor and host Maria Godoy via our contact form or directly by email  You can also reach correspondent Allison Aubrey via email \\n'"
      ]
     },
     "execution_count": 95,
     "metadata": {},
     "output_type": "execute_result"
    }
   ],
   "source": [
    "dlutils.preprocess_document(_input[1])"
   ]
  },
  {
   "cell_type": "code",
   "execution_count": 5,
   "metadata": {},
   "outputs": [],
   "source": [
    "from flair.embeddings import WordEmbeddings, BertEmbeddings,  FlairEmbeddings, DocumentPoolEmbeddings, Sentence, DocumentRNNEmbeddings\n",
    "\n",
    "\n",
    "# init embedding\n",
    "# de_embedding = WordEmbeddings('en')\n",
    "# initialize the word embeddings\n",
    "glove_embedding = WordEmbeddings('glove')\n",
    "flair_embedding_forward = FlairEmbeddings('news-forward')\n",
    "flair_embedding_backward = FlairEmbeddings('news-backward')\n",
    "\n",
    "# initialize the document embeddings, mode = mean\n",
    "document_embeddings = DocumentPoolEmbeddings([glove_embedding,\n",
    "                                              flair_embedding_backward,\n",
    "                                              flair_embedding_forward]) # mode can also be 'min' or 'max'.\n",
    "# bert_embedding = BertEmbeddings('bert-base-multilingual-cased')\n",
    "\n",
    "# initialize the word embeddings\n",
    "# glove_embedding = WordEmbeddings('glove')\n",
    "# german_forward = FlairEmbeddings('german-forward')\n",
    "# german_backward = FlairEmbeddings('german-backward')\n"
   ]
  },
  {
   "cell_type": "code",
   "execution_count": 6,
   "metadata": {},
   "outputs": [],
   "source": [
    "embeddings=[]\n",
    "for text in _input:\n",
    "    sentence = Sentence(text)\n",
    "    document_embeddings.embed(sentence)\n",
    "    embeddings.append(sentence.get_embedding().tolist())"
   ]
  },
  {
   "cell_type": "code",
   "execution_count": 28,
   "metadata": {},
   "outputs": [
    {
     "name": "stdout",
     "output_type": "stream",
     "text": [
      "Topic modelling for 5 topics\n"
     ]
    }
   ],
   "source": [
    "from sklearn.mixture import GaussianMixture\n",
    "\n",
    "n_topics=5\n",
    "print('Topic modelling for', n_topics, 'topics')\n",
    "gmm = GaussianMixture(n_components=n_topics, covariance_type='full')\n",
    "\n",
    "gmm.fit(embeddings)\n",
    "topic_assignment = gmm.predict(embeddings)"
   ]
  },
  {
   "cell_type": "code",
   "execution_count": 29,
   "metadata": {},
   "outputs": [],
   "source": [
    "# identify cluster center for every cluster\n",
    "import numpy as np\n",
    "cluster_centers=list()\n",
    "for i in range(n_topics):\n",
    "   # print(i)\n",
    "    indices = np.where(topic_assignment==i)[0]\n",
    "    center = np.array(embeddings)[indices].mean(axis=0)\n",
    "    cluster_centers.append(center)"
   ]
  },
  {
   "cell_type": "code",
   "execution_count": 30,
   "metadata": {
    "scrolled": true
   },
   "outputs": [
    {
     "name": "stdout",
     "output_type": "stream",
     "text": [
      "Wall time: 1.95 s\n"
     ]
    }
   ],
   "source": [
    "from sklearn.manifold import TSNE\n",
    "tsne=TSNE()\n",
    "\n",
    "%time vecs2d = tsne.fit_transform(embeddings[:500])"
   ]
  },
  {
   "cell_type": "code",
   "execution_count": 31,
   "metadata": {},
   "outputs": [
    {
     "data": {
      "image/png": "[encoded data removed]",
      "text/plain": [
       "<Figure size 432x288 with 1 Axes>"
      ]
     },
     "metadata": {},
     "output_type": "display_data"
    }
   ],
   "source": [
    "import matplotlib.pyplot as plt\n",
    "\n",
    "plt.scatter(vecs2d[:,0], vecs2d[:,1], c=topic_assignment, s=40, cmap='viridis')\n",
    "plt.savefig('cluster_distribution.png')"
   ]
  },
  {
   "cell_type": "markdown",
   "metadata": {},
   "source": [
    "# Ebbeddings with RNN"
   ]
  },
  {
   "cell_type": "code",
   "execution_count": 12,
   "metadata": {},
   "outputs": [],
   "source": [
    "from flair.embeddings import WordEmbeddings, DocumentRNNEmbeddings\n",
    "\n",
    "glove_embedding = WordEmbeddings('glove')\n",
    "\n",
    "document_lstm_embeddings = DocumentRNNEmbeddings([glove_embedding], rnn_type='LSTM')"
   ]
  },
  {
   "cell_type": "code",
   "execution_count": 13,
   "metadata": {},
   "outputs": [],
   "source": [
    "embeddings_rnn=[]\n",
    "for text in _input:\n",
    "    sentence = Sentence(text)\n",
    "    document_lstm_embeddings.embed(sentence)\n",
    "    embeddings_rnn.append(sentence.get_embedding().tolist())"
   ]
  },
  {
   "cell_type": "code",
   "execution_count": 42,
   "metadata": {},
   "outputs": [
    {
     "name": "stdout",
     "output_type": "stream",
     "text": [
      "Topic modelling for 5 topics\n"
     ]
    }
   ],
   "source": [
    "from sklearn.mixture import GaussianMixture\n",
    "\n",
    "n_topics=5\n",
    "print('Topic modelling for', n_topics, 'topics')\n",
    "gmm = GaussianMixture(n_components=n_topics)#, covariance_type='full')\n",
    "\n",
    "gmm.fit(embeddings_rnn)\n",
    "topic_assignment_rnn = gmm.predict(embeddings_rnn)"
   ]
  },
  {
   "cell_type": "code",
   "execution_count": 43,
   "metadata": {},
   "outputs": [],
   "source": [
    "import numpy as np\n",
    "cluster_centers_rnn=list()\n",
    "for i in range(n_topics):\n",
    "   # print(i)\n",
    "    indices = np.where(topic_assignment_rnn==i)[0]\n",
    "    center = np.array(embeddings_rnn)[indices].mean(axis=0)\n",
    "    cluster_centers_rnn.append(center)"
   ]
  },
  {
   "cell_type": "code",
   "execution_count": 44,
   "metadata": {},
   "outputs": [
    {
     "name": "stdout",
     "output_type": "stream",
     "text": [
      "Wall time: 1.7 s\n"
     ]
    }
   ],
   "source": [
    "from sklearn.manifold import TSNE\n",
    "tsne=TSNE()\n",
    "\n",
    "%time vecs2d_rnn = tsne.fit_transform(embeddings_rnn)"
   ]
  },
  {
   "cell_type": "code",
   "execution_count": 45,
   "metadata": {},
   "outputs": [
    {
     "data": {
      "image/png": "[encoded data removed]",
      "text/plain": [
       "<Figure size 432x288 with 1 Axes>"
      ]
     },
     "metadata": {},
     "output_type": "display_data"
    }
   ],
   "source": [
    "import matplotlib.pyplot as plt\n",
    "\n",
    "plt.scatter(vecs2d_rnn[:,0], vecs2d_rnn[:,1],  c=topic_assignment_rnn, s=40, cmap='viridis')\n",
    "plt.savefig('cluster_distribution_rnn.png')"
   ]
  },
  {
   "cell_type": "markdown",
   "metadata": {},
   "source": [
    "# Vectorizing the text: Mean of Word Embeddings within a text"
   ]
  },
  {
   "cell_type": "code",
   "execution_count": 50,
   "metadata": {},
   "outputs": [],
   "source": [
    "## Importing the Embeddings ##\n",
    "from flair.embeddings import WordEmbeddings\n",
    "from flair.embeddings import CharacterEmbeddings\n",
    "from flair.embeddings import StackedEmbeddings\n",
    "from flair.embeddings import FlairEmbeddings\n",
    "from flair.embeddings import BertEmbeddings\n",
    "from flair.embeddings import ELMoEmbeddings\n",
    "from flair.embeddings import FlairEmbeddings\n",
    "\n",
    "### Initialising embeddings (un-comment to use others) ###\n",
    "#glove_embedding = WordEmbeddings('glove')\n",
    "#character_embeddings = CharacterEmbeddings()\n",
    "flair_forward  = FlairEmbeddings('news-forward-fast')\n",
    "flair_backward = FlairEmbeddings('news-backward-fast')\n",
    "#bert_embedding = BertEmbedding()\n",
    "#elmo_embedding = ElmoEmbedding()\n",
    "\n",
    "stacked_embeddings = StackedEmbeddings( embeddings = [ \n",
    "                                                       flair_forward, \n",
    "                                                       flair_backward\n",
    "                                                      ])"
   ]
  },
  {
   "cell_type": "code",
   "execution_count": 79,
   "metadata": {},
   "outputs": [
    {
     "name": "stdout",
     "output_type": "stream",
     "text": [
      "tensor([-7.9977e-02, -1.8273e-07,  5.6449e-07,  ..., -6.4426e-11,\n",
      "        -5.6889e-05,  2.2074e-03])\n",
      "tensor([-2.2195e-03, -3.3100e-07,  1.0275e-04,  ..., -1.1446e-08,\n",
      "         1.1825e-04,  7.4121e-03])\n",
      "tensor([-1.9718e-03,  8.0446e-07,  3.8752e-06,  ..., -1.0182e-07,\n",
      "         6.2878e-04,  8.4182e-03])\n",
      "tensor([ 8.1545e-04, -1.3507e-06,  2.0821e-05,  ..., -1.6964e-08,\n",
      "        -4.7472e-05,  4.6065e-03])\n",
      "tensor([-2.6375e-03, -1.2175e-05,  1.0272e-06,  ..., -6.4314e-09,\n",
      "         2.1864e-05,  1.3656e-02])\n",
      "tensor([-2.7124e-04, -9.3561e-07,  8.5733e-08,  ..., -6.0021e-09,\n",
      "         5.1974e-06,  2.2156e-02])\n",
      "tensor([ 1.3671e-03, -3.5592e-06,  1.6523e-05,  ...,  1.8562e-10,\n",
      "         5.2463e-06,  3.4873e-03])\n",
      "tensor([-1.9664e-03, -6.2788e-05,  1.7101e-04,  ..., -1.0146e-08,\n",
      "        -2.9633e-06,  5.6776e-04])\n",
      "tensor([-6.1459e-03,  1.8994e-06,  2.0691e-08,  ...,  1.1194e-09,\n",
      "         5.2296e-05,  3.3456e-03])\n",
      "tensor([-3.5354e-02,  1.1373e-06,  6.0272e-07,  ..., -4.4197e-09,\n",
      "        -3.4824e-06,  1.1634e-03])\n",
      "tensor([-1.2033e-01, -1.9740e-06,  3.3209e-07,  ...,  5.3924e-11,\n",
      "        -2.1271e-04,  1.6290e-02])\n",
      "tensor([-6.0120e-03, -5.5032e-06,  5.0622e-05,  ..., -1.8286e-10,\n",
      "         1.2850e-05,  1.4253e-02])\n",
      "tensor([-1.8518e-03, -1.3509e-07,  5.0694e-05,  ..., -1.0649e-08,\n",
      "        -5.2117e-06,  4.4953e-04])\n",
      "tensor([-1.4382e-03, -2.5583e-06,  2.0298e-05,  ..., -3.7544e-10,\n",
      "         2.1357e-04,  1.9875e-03])\n",
      "tensor([-1.9773e-03,  9.2187e-07,  3.8810e-06,  ..., -2.4926e-08,\n",
      "         5.0209e-04,  7.2358e-03])\n",
      "tensor([ 8.2071e-04, -9.0167e-07,  2.1399e-05,  ..., -1.9383e-08,\n",
      "        -1.0490e-04,  6.4052e-03])\n",
      "tensor([-3.8900e-03, -1.4044e-05,  1.1928e-06,  ..., -1.2226e-08,\n",
      "         1.2518e-05,  1.4384e-02])\n",
      "tensor([ 5.7072e-04,  1.8539e-07,  4.2976e-07,  ..., -1.3974e-09,\n",
      "        -2.3956e-06,  1.5809e-02])\n",
      "tensor([ 3.0092e-03, -6.3087e-07,  9.8987e-07,  ..., -5.9613e-09,\n",
      "         8.8613e-06,  6.3591e-03])\n",
      "tensor([ 4.5391e-03, -1.3453e-07,  1.5098e-04,  ..., -3.3797e-09,\n",
      "         4.7865e-05,  4.3552e-03])\n",
      "tensor([-2.0441e-03, -1.9570e-04,  8.1471e-05,  ..., -2.5572e-08,\n",
      "         1.4399e-04,  2.2778e-02])\n",
      "tensor([-8.9796e-03,  2.2334e-06,  2.2097e-08,  ...,  1.3750e-11,\n",
      "         4.2974e-05,  3.2742e-03])\n",
      "tensor([ 1.7245e-02, -6.8315e-07,  1.4649e-06,  ...,  1.5169e-09,\n",
      "        -3.2218e-04,  1.0166e-02])\n",
      "tensor([ 1.2205e-03, -3.6142e-06,  5.3160e-05,  ..., -2.3285e-09,\n",
      "         3.7968e-06,  1.5684e-02])\n",
      "tensor([-1.9286e-02,  1.9039e-07,  3.0649e-07,  ..., -2.5992e-09,\n",
      "         2.0832e-06,  3.3115e-03])\n",
      "tensor([-8.5940e-03,  3.1730e-05,  1.2472e-06,  ..., -5.1706e-09,\n",
      "         5.7509e-04,  1.4180e-03])\n",
      "tensor([-3.2811e-02,  4.3308e-07,  5.7990e-06,  ..., -3.5672e-09,\n",
      "         2.0237e-05,  6.0388e-03])\n",
      "tensor([-4.4932e-03, -2.7232e-06,  2.2108e-07,  ..., -1.7695e-07,\n",
      "         1.9210e-05,  2.6348e-03])\n",
      "tensor([-1.6376e-03, -3.6430e-07,  3.1697e-07,  ..., -2.4370e-07,\n",
      "        -3.6342e-04,  1.3574e-02])\n",
      "tensor([-2.9742e-01, -4.8808e-05,  2.8852e-04,  ..., -1.8368e-09,\n",
      "        -1.1998e-05,  2.2235e-03])\n",
      "tensor([-5.8069e-05, -4.1962e-08,  1.2854e-04,  ..., -1.3382e-09,\n",
      "         1.6817e-04,  9.9982e-03])\n",
      "tensor([ 1.8533e-04,  1.0165e-04,  7.3850e-07,  ..., -2.9300e-08,\n",
      "        -2.0546e-05,  1.1676e-02])\n",
      "tensor([-9.8636e-03,  1.9495e-05,  1.1703e-06,  ..., -3.8998e-09,\n",
      "         3.1308e-04,  1.5556e-03])\n",
      "tensor([-3.8953e-04,  1.1811e-06,  6.7753e-06,  ..., -9.5980e-09,\n",
      "         1.3807e-05,  2.1384e-03])\n",
      "tensor([-2.1066e-03,  6.6307e-07,  3.4496e-06,  ..., -1.3459e-09,\n",
      "         5.1386e-05,  9.8805e-03])\n",
      "tensor([-5.0943e-02, -6.6941e-08,  4.3166e-07,  ..., -2.8516e-10,\n",
      "        -3.3174e-05,  8.0280e-03])\n",
      "tensor([ 2.9390e-04,  5.6036e-07,  2.2626e-06,  ..., -2.7307e-11,\n",
      "        -2.2865e-05,  3.4869e-03])\n",
      "tensor([-1.8566e-03, -2.8624e-05,  3.7292e-07,  ..., -3.9532e-09,\n",
      "         2.9618e-05,  1.8127e-02])\n",
      "tensor([-2.1720e-03, -2.6869e-08,  4.2772e-08,  ..., -1.8135e-09,\n",
      "         3.1062e-04,  6.9396e-03])\n",
      "tensor([ 1.2356e-03, -5.6116e-07,  1.1146e-06,  ..., -8.5198e-09,\n",
      "        -4.7584e-06,  7.1512e-03])\n",
      "tensor([-6.8838e-03,  1.8413e-06,  1.6758e-07,  ..., -4.8795e-09,\n",
      "         3.7994e-04,  2.2730e-03])\n",
      "tensor([-7.5783e-03, -6.1345e-08,  1.4645e-07,  ..., -2.5759e-11,\n",
      "        -4.9231e-05,  6.6304e-03])\n",
      "tensor([-1.1777e-02, -3.0509e-07,  1.1311e-05,  ..., -1.9355e-09,\n",
      "        -9.8153e-05,  3.3714e-03])\n",
      "tensor([ 5.6481e-04, -2.1481e-07,  1.4259e-07,  ..., -2.7818e-09,\n",
      "         1.9376e-05,  2.1869e-03])\n",
      "tensor([-7.1034e-03, -2.7041e-06,  1.6478e-06,  ..., -1.2551e-07,\n",
      "         1.0160e-05,  6.4135e-03])\n",
      "tensor([-4.5674e-02,  9.9551e-09,  4.4593e-07,  ...,  2.6555e-10,\n",
      "        -1.4588e-05,  8.0369e-03])\n",
      "tensor([ 2.1485e-04, -4.6694e-07,  1.1433e-06,  ..., -4.0581e-08,\n",
      "         1.1794e-04,  4.0818e-02])\n",
      "tensor([-1.0298e-03, -9.9037e-09,  1.4811e-05,  ..., -1.9771e-08,\n",
      "        -2.3029e-06,  8.9897e-04])\n",
      "tensor([-3.6482e-04,  7.3561e-07,  3.3358e-06,  ...,  1.3323e-09,\n",
      "        -7.0747e-08,  4.8076e-04])\n",
      "tensor([-2.0464e-03, -2.4260e-04,  1.1147e-04,  ..., -4.8750e-08,\n",
      "         9.6264e-06,  2.1943e-02])\n",
      "tensor([-8.4948e-03, -4.6920e-06,  6.5450e-08,  ..., -1.8551e-08,\n",
      "        -1.3734e-03,  4.5443e-02])\n",
      "tensor([-1.0574e-01, -4.6138e-06,  4.0940e-06,  ..., -3.9563e-09,\n",
      "         3.4106e-05,  3.8992e-03])\n",
      "tensor([-1.3802e-02, -1.7996e-05,  4.1715e-07,  ..., -2.5819e-08,\n",
      "         1.9622e-04,  6.0978e-03])\n",
      "tensor([-8.0452e-03, -4.7732e-07,  2.2944e-07,  ..., -1.6500e-09,\n",
      "         3.0098e-04,  5.6209e-02])\n",
      "tensor([-1.1507e-03, -1.3243e-05,  1.1634e-06,  ..., -1.8144e-08,\n",
      "        -3.4346e-05,  1.6266e-02])\n",
      "tensor([-1.9371e-03, -8.9608e-08,  6.9275e-08,  ..., -1.8419e-09,\n",
      "         2.5516e-04,  7.9549e-03])\n",
      "tensor([ 4.8262e-04, -1.1061e-06,  2.6163e-06,  ..., -1.4060e-08,\n",
      "        -1.8569e-06,  6.0888e-03])\n",
      "tensor([ 6.1586e-04, -1.5784e-07, -5.0020e-08,  ..., -3.3232e-08,\n",
      "         7.3416e-06,  1.6682e-02])\n",
      "tensor([-3.1946e-03, -9.5808e-07,  6.8442e-08,  ..., -2.1679e-09,\n",
      "        -4.9321e-06,  6.0176e-03])\n",
      "tensor([-9.5712e-03, -3.5241e-07,  2.9308e-06,  ..., -5.3652e-10,\n",
      "         1.6414e-05,  1.0028e-03])\n",
      "tensor([-3.0134e-03,  5.9655e-07,  4.1663e-07,  ..., -2.9306e-09,\n",
      "         9.2751e-05,  1.6267e-02])\n",
      "tensor([ 6.1231e-04,  2.3201e-06,  1.2565e-05,  ..., -1.2846e-08,\n",
      "         1.2566e-05,  1.4706e-03])\n",
      "tensor([-9.1815e-03,  1.7620e-06, -3.4569e-07,  ...,  2.5803e-09,\n",
      "        -1.5840e-05,  1.2114e-02])\n",
      "tensor([-1.9434e-02,  1.3367e-05,  9.3033e-08,  ..., -3.7774e-09,\n",
      "        -4.7712e-04,  2.8844e-03])\n",
      "tensor([-2.6025e-03, -2.3686e-04,  5.7523e-05,  ..., -1.7813e-08,\n",
      "         1.0514e-04,  1.9860e-02])\n",
      "tensor([-3.5296e-03, -6.5774e-07,  2.8510e-07,  ..., -2.6017e-09,\n",
      "        -6.4489e-04,  1.6622e-02])\n",
      "tensor([ 9.8749e-04, -1.8403e-06,  3.4914e-05,  ..., -1.3629e-09,\n",
      "        -1.1447e-05,  1.3165e-02])\n",
      "tensor([-2.6936e-02,  1.5083e-06,  9.4335e-07,  ..., -2.8291e-09,\n",
      "         4.9239e-06,  4.7332e-03])\n",
      "tensor([ 3.5800e-04, -1.0518e-06,  1.5609e-07,  ..., -6.1922e-08,\n",
      "         9.6785e-05,  2.5080e-02])\n",
      "tensor([ 7.2783e-04, -4.5172e-06,  1.5715e-06,  ..., -5.5303e-08,\n",
      "        -7.2938e-04,  3.4203e-02])\n",
      "tensor([ 3.1103e-04,  9.5548e-05,  1.2425e-06,  ..., -8.6426e-09,\n",
      "        -1.4645e-04,  1.5557e-02])\n",
      "tensor([ 2.6153e-03,  3.9541e-06,  2.0677e-05,  ..., -2.1267e-10,\n",
      "         1.9308e-06,  4.3264e-03])\n",
      "tensor([-3.0329e-02, -1.1235e-07,  2.9663e-07,  ..., -1.1042e-10,\n",
      "        -1.4274e-04,  6.6820e-03])\n",
      "tensor([-7.6096e-03, -9.5698e-07,  2.5779e-05,  ..., -4.8835e-09,\n",
      "         1.5395e-05,  3.0969e-03])\n",
      "tensor([-3.4636e-05, -4.4103e-07,  1.0007e-05,  ..., -2.2411e-09,\n",
      "         7.5825e-05,  6.4419e-03])\n",
      "tensor([-9.2298e-04, -3.1516e-05,  4.5553e-06,  ..., -1.3540e-08,\n",
      "         4.7241e-05,  3.4555e-03])\n",
      "tensor([-5.4423e-04, -7.6801e-07,  8.2763e-06,  ..., -7.6321e-09,\n",
      "        -5.9489e-06,  3.1134e-02])\n",
      "tensor([-4.1897e-03,  6.4822e-07,  1.9628e-08,  ..., -5.2975e-08,\n",
      "         4.1249e-03,  1.8716e-02])\n",
      "tensor([-4.3706e-05,  1.2330e-06,  1.2404e-05,  ..., -2.0884e-07,\n",
      "        -1.2233e-05,  3.7812e-03])\n",
      "tensor([ 5.2126e-05,  1.5923e-08,  2.5353e-05,  ..., -1.9868e-09,\n",
      "         3.2144e-05,  5.5678e-02])\n",
      "tensor([-2.4257e-02,  1.0839e-06,  5.5809e-06,  ..., -2.1870e-08,\n",
      "        -3.7204e-05,  3.9175e-03])\n",
      "tensor([-1.0940e-04, -3.9030e-07,  5.4671e-05,  ..., -1.1361e-08,\n",
      "        -4.8747e-05,  5.0029e-02])\n",
      "tensor([-4.0312e-04,  2.7559e-07,  1.0033e-05,  ..., -1.5153e-10,\n",
      "        -7.5634e-06,  9.7361e-03])\n",
      "tensor([-8.2105e-02,  2.1638e-05,  1.0940e-05,  ..., -3.1243e-08,\n",
      "         1.4417e-03,  4.0254e-01])\n",
      "tensor([-8.4983e-03,  9.4397e-07,  2.3978e-06,  ..., -8.6867e-10,\n",
      "         1.7279e-05,  3.5530e-03])\n",
      "tensor([-1.7112e-06,  1.6250e-06,  6.7068e-05,  ..., -6.4346e-09,\n",
      "         2.7525e-04,  1.1608e-02])\n",
      "tensor([-2.9588e-04, -1.3548e-07,  8.5581e-06,  ..., -4.2151e-09,\n",
      "        -5.6401e-06,  3.5478e-04])\n",
      "tensor([ 1.1407e-03, -1.5717e-07,  8.1720e-06,  ..., -1.0805e-08,\n",
      "        -8.9616e-05,  3.7931e-02])\n",
      "tensor([-9.2173e-03,  4.0086e-07,  3.1420e-06,  ..., -2.4897e-09,\n",
      "         9.8632e-05,  3.1740e-02])\n",
      "tensor([-2.2817e-03, -3.9594e-07,  1.7864e-06,  ..., -1.7884e-09,\n",
      "         3.9344e-05,  4.9546e-03])\n",
      "tensor([-8.8974e-03,  2.6408e-07,  4.7273e-07,  ..., -1.7248e-09,\n",
      "        -4.8811e-07,  9.1079e-03])\n",
      "tensor([ 1.5500e-03, -3.7370e-08,  6.3610e-07,  ..., -6.9229e-10,\n",
      "         1.6951e-06,  5.8037e-03])\n",
      "tensor([-4.8563e-03,  6.0568e-07,  2.2920e-06,  ..., -5.8451e-08,\n",
      "         1.4315e-03,  2.4140e-02])\n",
      "tensor([ 4.7657e-04, -5.9482e-07,  5.2028e-05,  ..., -2.2092e-08,\n",
      "        -5.4063e-05,  3.8775e-03])\n",
      "tensor([ 5.1013e-04,  4.7442e-05,  4.3619e-07,  ..., -1.7759e-09,\n",
      "         3.3007e-04,  1.1888e-02])\n",
      "tensor([-2.0064e-03, -1.1663e-05,  1.5452e-05,  ..., -7.1539e-10,\n",
      "         5.4142e-06,  1.8519e-02])\n",
      "tensor([-2.2190e-02, -2.3195e-08,  2.4088e-07,  ..., -1.5771e-10,\n",
      "        -5.2769e-05,  8.3999e-03])\n",
      "tensor([-1.0148e-02, -1.7772e-05,  3.6251e-06,  ..., -2.4136e-09,\n",
      "        -1.3807e-04,  2.6312e-02])\n",
      "tensor([-9.9057e-03, -8.9776e-07,  1.3640e-04,  ..., -3.9824e-09,\n",
      "        -1.6929e-05,  7.2981e-02])\n",
      "tensor([ 9.7998e-06, -8.9837e-07,  7.6815e-07,  ..., -1.5454e-11,\n",
      "        -1.6164e-05,  7.3623e-03])\n",
      "tensor([ 6.6438e-05, -1.6819e-08,  3.4885e-07,  ..., -4.9411e-08,\n",
      "         2.0421e-04,  2.5485e-03])\n",
      "tensor([-7.7231e-04, -2.6758e-05,  1.4426e-05,  ..., -1.0070e-08,\n",
      "         4.0674e-05,  1.9736e-03])\n",
      "tensor([ 4.5131e-03, -1.2480e-05,  2.4064e-06,  ..., -1.6387e-10,\n",
      "         1.1831e-04,  3.3716e-02])\n",
      "tensor([ 6.1332e-04,  1.0543e-06,  4.0174e-06,  ..., -1.2299e-08,\n",
      "        -5.5459e-05,  5.8805e-03])\n",
      "tensor([-2.9423e-03, -5.0504e-07,  1.9665e-07,  ..., -3.0527e-08,\n",
      "         9.7313e-04,  2.7452e-02])\n",
      "tensor([ 3.0339e-03,  2.6119e-06,  7.5271e-06,  ..., -4.2654e-09,\n",
      "        -5.0136e-05,  1.6955e-02])\n",
      "tensor([ 5.9383e-03, -1.4506e-05,  5.6807e-07,  ..., -4.6169e-09,\n",
      "         7.1310e-04,  3.7949e-03])\n",
      "tensor([-1.4269e-03,  2.3315e-07,  1.0578e-05,  ..., -1.6028e-09,\n",
      "         5.0777e-06,  2.1630e-02])\n",
      "tensor([ 7.8377e-04, -2.7830e-07,  1.7454e-06,  ..., -1.2752e-08,\n",
      "        -4.0080e-05,  1.0981e-01])\n",
      "tensor([ 1.9739e-04,  5.3339e-07,  2.7236e-06,  ..., -1.7002e-08,\n",
      "        -7.6798e-06,  7.7984e-03])\n",
      "tensor([-2.2106e-03,  1.2208e-07,  3.5923e-06,  ..., -4.0980e-10,\n",
      "         6.5157e-05,  6.1894e-03])\n",
      "tensor([-5.9323e-03,  9.9395e-07,  6.4914e-10,  ..., -2.3574e-09,\n",
      "         2.2244e-04,  9.0783e-03])\n",
      "tensor([ 1.9665e-04, -3.0344e-07,  7.0045e-06,  ..., -8.4097e-10,\n",
      "        -6.9959e-08,  2.4068e-03])\n",
      "tensor([-5.5491e-03, -9.0071e-07,  1.8367e-06,  ..., -3.4808e-09,\n",
      "         2.9123e-06,  2.2121e-03])\n",
      "tensor([ 1.1706e-03, -7.0808e-08,  2.4465e-06,  ..., -6.8179e-11,\n",
      "         1.5764e-05,  2.7790e-02])\n",
      "tensor([ 4.3133e-05, -3.4689e-08,  5.9898e-07,  ..., -4.6156e-08,\n",
      "         1.4181e-04,  1.8187e-03])\n",
      "tensor([ 1.7726e-06, -6.2308e-06,  6.4295e-06,  ..., -4.3786e-09,\n",
      "         3.1762e-05,  1.1401e-02])\n",
      "tensor([-4.9439e-05, -7.4641e-07,  7.8875e-05,  ..., -2.6063e-08,\n",
      "        -7.7218e-05,  2.0752e-02])\n",
      "tensor([ 2.2367e-03, -2.2643e-06,  8.4909e-07,  ..., -5.8759e-08,\n",
      "         6.5227e-05,  2.1450e-01])\n",
      "tensor([ 6.5598e-04, -1.1501e-05,  4.2678e-06,  ..., -7.8080e-08,\n",
      "        -1.4026e-05,  2.1730e-03])\n",
      "tensor([-7.6671e-03, -5.2850e-07,  6.3373e-05,  ..., -1.2387e-09,\n",
      "        -1.0486e-04,  3.6024e-03])\n",
      "tensor([-4.2918e-03,  2.4244e-07,  4.2177e-07,  ..., -5.0625e-09,\n",
      "         3.3915e-05,  7.4190e-03])\n",
      "tensor([ 1.5434e-02,  1.0391e-06,  2.6198e-05,  ..., -2.8585e-09,\n",
      "        -1.0447e-04,  4.2659e-03])\n",
      "tensor([-2.8819e-02, -5.6559e-08,  1.5291e-06,  ..., -2.7473e-10,\n",
      "        -4.7444e-05,  1.0068e-02])\n",
      "tensor([-3.1445e-02, -8.8672e-08,  6.2541e-07,  ..., -3.3402e-11,\n",
      "        -9.3321e-05,  8.0360e-03])\n",
      "tensor([-2.6873e-03, -1.1255e-06,  1.2258e-06,  ..., -1.6980e-08,\n",
      "         2.0309e-04,  2.0573e-02])\n",
      "tensor([ 3.9207e-03,  1.9929e-06,  5.4709e-06,  ..., -2.4824e-09,\n",
      "        -1.1059e-04,  6.5264e-03])\n",
      "tensor([-1.0816e-03,  1.1013e-05,  3.9126e-06,  ..., -6.1121e-09,\n",
      "        -7.0966e-04,  1.5099e-03])\n",
      "tensor([-6.0441e-04,  2.5278e-07,  3.4129e-06,  ..., -2.2714e-08,\n",
      "        -2.1660e-05,  4.2945e-03])\n",
      "tensor([-2.6454e-03, -4.7866e-07,  6.1090e-05,  ..., -4.2423e-10,\n",
      "         1.0127e-05,  1.5722e-02])\n",
      "tensor([-4.0550e-04,  3.1117e-06,  2.3817e-06,  ..., -1.5755e-08,\n",
      "        -4.2084e-06,  1.7068e-02])\n",
      "tensor([-1.6937e-03, -3.1368e-06,  1.5382e-05,  ..., -2.7562e-09,\n",
      "        -4.6192e-05,  8.6521e-03])\n",
      "tensor([-5.3840e-03, -6.4553e-06,  8.8156e-07,  ..., -1.6190e-08,\n",
      "         1.9749e-05,  2.1227e-02])\n",
      "tensor([-1.8406e-03, -8.0214e-06,  2.9193e-06,  ..., -1.0992e-10,\n",
      "         2.8492e-05,  2.7815e-02])\n",
      "tensor([ 1.0567e-04,  1.0774e-06,  7.2449e-06,  ..., -7.0622e-08,\n",
      "         1.7235e-04,  7.4412e-03])\n",
      "tensor([-1.3532e-01,  1.4907e-05,  4.6961e-05,  ..., -1.1374e-08,\n",
      "         1.0867e-03,  5.2050e-01])\n",
      "tensor([ 3.2952e-04,  4.5295e-06,  8.1014e-05,  ..., -2.3837e-09,\n",
      "        -2.3565e-05,  4.7796e-03])\n",
      "tensor([-7.5566e-04, -3.0901e-08,  2.9437e-06,  ..., -2.0583e-08,\n",
      "         1.4758e-04,  1.6468e-02])\n",
      "tensor([-9.3366e-04,  8.1348e-08,  1.9554e-06,  ...,  6.7621e-09,\n",
      "         2.9564e-05,  2.2052e-02])\n",
      "tensor([-5.3341e-02, -4.6474e-07,  7.0095e-07,  ..., -1.1574e-08,\n",
      "         7.8893e-06,  2.3943e-02])\n",
      "tensor([-2.6692e-02,  3.0164e-08,  1.1597e-06,  ..., -7.0372e-11,\n",
      "        -6.8807e-05,  6.7659e-03])\n",
      "tensor([-2.1938e-03, -3.8439e-07,  7.4858e-08,  ..., -1.6018e-08,\n",
      "        -2.7920e-05,  3.2021e-02])\n",
      "tensor([ 8.3483e-06,  6.2342e-09,  1.7188e-05,  ..., -6.5780e-09,\n",
      "         4.1847e-05,  4.5561e-03])\n",
      "tensor([ 4.2429e-04,  3.8975e-06,  1.3897e-07,  ..., -2.3652e-08,\n",
      "         3.2433e-06,  2.0002e-03])\n",
      "tensor([-1.6250e-03,  2.4361e-05,  2.6844e-06,  ..., -2.6143e-08,\n",
      "        -9.4327e-06,  7.3413e-03])\n",
      "tensor([-1.2315e-03, -8.0745e-08,  1.1099e-05,  ..., -1.7123e-08,\n",
      "        -2.9451e-06,  1.1420e-03])\n",
      "tensor([-6.0666e-03, -6.7042e-06,  5.3393e-07,  ..., -1.2979e-08,\n",
      "         5.5594e-06,  3.6548e-04])\n",
      "tensor([-2.3228e-02, -6.6533e-08,  3.2124e-07,  ..., -1.6495e-10,\n",
      "        -5.4117e-05,  6.4166e-03])\n",
      "tensor([-5.6577e-03,  1.6576e-06,  1.2075e-05,  ..., -3.0380e-08,\n",
      "        -1.8770e-05,  3.2408e-02])\n",
      "tensor([-2.1842e-03,  2.4057e-07,  7.5500e-05,  ..., -1.7754e-09,\n",
      "        -1.8594e-05,  2.8924e-02])\n",
      "tensor([-8.4161e-04, -2.1368e-07,  6.4303e-06,  ..., -9.6455e-09,\n",
      "         1.9453e-05,  1.3330e-02])\n",
      "tensor([ 1.7447e-02, -2.1106e-07,  3.3545e-05,  ..., -1.0725e-08,\n",
      "         5.1124e-06,  3.3212e-03])\n",
      "tensor([-7.5784e-04, -7.4457e-07,  9.3249e-05,  ..., -1.8520e-08,\n",
      "         5.6698e-05,  6.6773e-03])\n",
      "tensor([ 1.6581e-04,  3.1620e-07,  4.3505e-05,  ..., -7.1694e-08,\n",
      "         1.0313e-03,  6.5400e-02])\n",
      "tensor([-3.4770e-03, -8.0265e-07,  4.8829e-08,  ..., -4.5132e-08,\n",
      "         3.4039e-04,  2.4957e-02])\n",
      "tensor([ 1.5683e-03, -1.2873e-07,  1.9359e-06,  ...,  2.3684e-09,\n",
      "         8.1622e-05,  1.0524e-02])\n",
      "tensor([-3.3544e-03,  1.2848e-03,  1.9373e-06,  ..., -2.6291e-09,\n",
      "        -3.1474e-05,  3.3873e-03])\n",
      "tensor([ 2.0047e-04,  1.3330e-06,  5.0891e-06,  ..., -3.1525e-08,\n",
      "         1.2806e-04,  9.6936e-03])\n",
      "tensor([-1.5421e-03, -1.5415e-06,  4.6968e-05,  ...,  6.1869e-10,\n",
      "         1.3451e-05,  3.8564e-03])\n",
      "tensor([-2.5977e-04,  8.6051e-09,  6.4614e-06,  ..., -1.2428e-09,\n",
      "         2.0206e-04,  1.4705e-02])\n",
      "tensor([-1.1837e-03, -1.9219e-05,  3.9320e-07,  ..., -2.0476e-08,\n",
      "        -1.4385e-04,  1.6092e-02])\n",
      "tensor([-4.5738e-03,  2.0682e-06,  1.9170e-07,  ..., -1.1968e-09,\n",
      "        -2.9067e-05,  2.7200e-03])\n",
      "tensor([-7.0628e-02, -7.8848e-09,  3.1257e-07,  ..., -1.4170e-11,\n",
      "        -4.4053e-05,  7.6693e-03])\n",
      "tensor([ 4.3582e-04, -5.7763e-08, -3.1734e-08,  ..., -4.8954e-08,\n",
      "         9.0129e-06,  1.0961e-02])\n",
      "tensor([ 4.5552e-03, -3.7044e-07,  1.4360e-04,  ..., -1.2401e-08,\n",
      "         4.8287e-05,  4.0813e-03])\n",
      "tensor([ 8.4893e-04, -2.1871e-06,  1.2435e-05,  ...,  3.6189e-07,\n",
      "        -8.6768e-05,  3.6562e-02])\n",
      "tensor([ 4.0378e-04, -1.6321e-06,  1.2801e-05,  ...,  9.1765e-09,\n",
      "        -2.2848e-04,  7.2678e-03])\n",
      "tensor([-2.4393e-03, -1.2226e-07,  1.7369e-06,  ..., -5.4804e-07,\n",
      "        -9.4554e-05,  1.2427e-02])\n",
      "tensor([-1.4099e-03, -6.9273e-08,  3.5350e-06,  ..., -5.6955e-10,\n",
      "         1.6710e-05,  7.7705e-03])\n",
      "tensor([-1.5498e-02,  5.4792e-07,  4.9533e-06,  ..., -3.9860e-09,\n",
      "         1.6895e-05,  7.6275e-03])\n",
      "tensor([-6.0903e-03, -1.6309e-06,  4.4615e-07,  ..., -7.6754e-08,\n",
      "        -6.0167e-06,  3.5111e-03])\n",
      "tensor([-2.3527e-03, -2.8687e-06,  1.1100e-04,  ..., -6.5862e-09,\n",
      "         6.4778e-05,  4.5059e-03])\n",
      "tensor([-2.8762e-04,  8.6309e-08,  3.5279e-05,  ..., -1.6493e-09,\n",
      "        -1.0300e-04,  4.9548e-03])\n",
      "tensor([-4.1950e-04,  2.4449e-07, -1.5165e-05,  ..., -1.5795e-08,\n",
      "         1.4414e-05,  1.2603e-02])\n",
      "tensor([ 3.6774e-03, -4.4366e-08,  2.6085e-06,  ..., -1.3449e-08,\n",
      "        -4.7710e-04,  1.0399e-02])\n",
      "tensor([-6.0521e-03, -1.0827e-06, -6.6261e-08,  ..., -2.3747e-09,\n",
      "        -4.9877e-04,  2.0898e-02])\n",
      "tensor([-9.3274e-03,  1.0278e-05,  9.9653e-07,  ..., -2.7016e-09,\n",
      "         1.7936e-04,  9.1361e-04])\n",
      "tensor([-3.5376e-02,  4.9363e-09,  4.2703e-07,  ..., -1.1600e-11,\n",
      "        -4.5369e-05,  4.1153e-03])\n",
      "tensor([-6.2073e-03, -2.1142e-06,  6.7515e-07,  ..., -1.3817e-09,\n",
      "        -8.9442e-05,  6.5513e-03])\n",
      "tensor([ 1.2705e-04,  3.5717e-05,  4.5852e-07,  ..., -3.1922e-09,\n",
      "         5.6252e-04,  7.8956e-02])\n",
      "tensor([ 1.1373e-03, -7.7319e-08,  5.6272e-06,  ..., -1.3920e-08,\n",
      "         2.9628e-05,  9.3304e-03])\n",
      "tensor([ 7.2344e-05, -6.0719e-07,  7.6021e-06,  ..., -2.5340e-08,\n",
      "        -4.7984e-05,  3.4474e-02])\n",
      "tensor([-2.7954e-05, -9.7686e-07,  4.7322e-06,  ..., -2.3040e-09,\n",
      "         9.1522e-05,  6.4251e-03])\n",
      "tensor([-2.2633e-03,  2.0664e-05,  3.6165e-06,  ..., -5.0881e-09,\n",
      "         1.1865e-05,  2.2524e-03])\n",
      "tensor([-1.2812e-03, -4.4168e-05,  1.7407e-04,  ..., -3.6225e-08,\n",
      "        -2.2771e-06,  1.1420e-03])\n",
      "tensor([-1.9959e-03, -2.0969e-06,  1.3520e-05,  ..., -1.1603e-09,\n",
      "         2.0481e-04,  2.0978e-03])\n",
      "tensor([-7.0291e-02, -2.2188e-05,  7.8340e-06,  ..., -9.9346e-08,\n",
      "        -1.7108e-04,  2.8864e-02])\n",
      "tensor([-1.2841e-03,  3.1461e-06,  1.3619e-04,  ..., -4.9248e-08,\n",
      "         3.1883e-04,  7.5122e-03])\n",
      "tensor([ 1.8715e-03,  9.7788e-07,  3.3222e-06,  ..., -3.3197e-08,\n",
      "        -1.2264e-04,  1.8657e-02])\n",
      "tensor([-1.6227e-03, -3.5103e-06,  2.2307e-05,  ..., -2.2024e-08,\n",
      "         3.2535e-06,  3.9976e-03])\n",
      "tensor([-7.0462e-03, -2.9935e-06,  5.4476e-07,  ..., -6.5050e-08,\n",
      "         7.3268e-06,  4.5388e-03])\n",
      "tensor([-4.0282e-02,  3.2838e-07,  9.4869e-07,  ..., -5.5049e-09,\n",
      "        -3.0628e-05,  1.1434e-02])\n",
      "tensor([ 8.3133e-05, -4.1978e-07,  7.0046e-07,  ..., -3.4066e-08,\n",
      "         9.3419e-05,  3.5777e-02])\n",
      "tensor([-1.2355e-03, -4.7455e-08,  6.5742e-06,  ..., -1.6180e-08,\n",
      "        -3.8739e-06,  1.6344e-03])\n",
      "tensor([-5.2525e-03, -7.6620e-06,  1.6541e-07,  ..., -1.4546e-08,\n",
      "        -2.2267e-05,  5.4516e-03])\n",
      "tensor([-4.5031e-04, -3.0823e-07,  6.9115e-07,  ..., -8.0399e-09,\n",
      "         1.9289e-05,  5.5742e-03])\n",
      "tensor([-3.8952e-03, -1.4075e-06,  1.1323e-06,  ..., -2.3427e-08,\n",
      "         2.7445e-05,  1.5808e-02])\n",
      "tensor([-7.2313e-03,  7.1734e-06,  6.7649e-06,  ..., -2.9275e-08,\n",
      "        -1.3896e-04,  6.1897e-03])\n",
      "tensor([-1.1375e-01, -8.2045e-08,  4.9681e-07,  ..., -8.2897e-11,\n",
      "        -7.1121e-05,  7.3342e-03])\n",
      "tensor([-2.4603e-03, -1.6770e-04,  3.5300e-05,  ..., -1.0857e-08,\n",
      "         2.1498e-05,  9.1989e-03])\n",
      "tensor([ 8.4660e-05, -3.9778e-07,  5.9184e-07,  ..., -7.6938e-08,\n",
      "         9.0040e-05,  3.2772e-02])\n",
      "tensor([-1.1620e-03, -7.7611e-08,  1.5475e-05,  ..., -2.3055e-08,\n",
      "        -2.7660e-06,  1.2224e-03])\n",
      "tensor([-2.4184e-03, -2.1014e-07,  3.4823e-06,  ..., -8.3938e-09,\n",
      "        -1.1108e-03,  1.7203e-02])\n",
      "tensor([-5.4258e-04, -1.6757e-05,  1.2248e-05,  ..., -5.9596e-09,\n",
      "        -2.3277e-06,  1.4847e-02])\n",
      "tensor([-5.3696e-03, -3.1851e-06,  2.4571e-06,  ..., -4.5867e-08,\n",
      "         4.5814e-04,  7.2914e-02])\n",
      "tensor([-4.9888e-03, -4.6945e-06,  4.8129e-08,  ..., -1.3819e-08,\n",
      "        -6.0391e-04,  4.3217e-02])\n",
      "tensor([-9.7217e-02, -5.3671e-06,  2.1059e-06,  ..., -1.2771e-09,\n",
      "        -3.3352e-05,  1.7044e-03])\n",
      "tensor([-2.5604e-02, -5.6246e-08,  1.2020e-05,  ..., -2.8821e-08,\n",
      "         1.5194e-05,  2.1123e-02])\n",
      "tensor([-8.9495e-03, -4.8093e-06,  5.2932e-07,  ..., -2.8873e-09,\n",
      "         2.8063e-05,  1.4594e-02])\n",
      "tensor([-4.2769e-03, -2.0795e-06,  9.6553e-07,  ..., -1.8439e-08,\n",
      "         1.6368e-05,  1.7219e-02])\n",
      "tensor([-7.5152e-04, -1.2313e-06,  1.0870e-06,  ..., -1.7519e-07,\n",
      "        -1.3346e-04,  4.9463e-03])\n",
      "tensor([-2.2992e-04, -8.8871e-06,  3.1744e-04,  ..., -8.8330e-09,\n",
      "        -6.2860e-05,  1.1543e-02])\n",
      "tensor([-5.8895e-03,  1.6474e-05,  1.6224e-05,  ..., -2.2369e-07,\n",
      "         1.2587e-03,  5.5279e-02])\n",
      "tensor([-8.9738e-04, -8.3152e-07,  3.5512e-06,  ..., -3.9434e-09,\n",
      "         9.0566e-05,  5.9111e-03])\n",
      "tensor([ 7.8904e-04, -3.4221e-07,  9.3479e-07,  ..., -8.3093e-09,\n",
      "        -9.9972e-06,  1.1650e-02])\n",
      "tensor([ 4.9556e-03, -2.1615e-07,  5.4369e-06,  ...,  1.3549e-08,\n",
      "        -2.8692e-06, -1.3281e-04])\n",
      "tensor([-3.3180e-03,  1.7237e-06,  1.8074e-06,  ..., -1.0777e-07,\n",
      "         6.1459e-05,  9.0248e-03])\n",
      "tensor([-4.7295e-05, -1.6838e-06,  3.6186e-06,  ..., -5.1418e-07,\n",
      "         4.5457e-07,  9.8526e-03])\n",
      "tensor([-4.6900e-04, -1.7802e-06,  1.9781e-05,  ..., -7.0850e-09,\n",
      "         4.9047e-05,  5.2820e-03])\n",
      "tensor([-7.5026e-04, -3.2389e-06,  3.4234e-06,  ..., -2.0718e-08,\n",
      "        -2.9239e-05,  2.5938e-03])\n",
      "tensor([-8.3152e-04, -3.2360e-05,  6.3492e-05,  ..., -9.6594e-09,\n",
      "        -4.4548e-06,  9.4688e-04])\n",
      "tensor([-4.3881e-02, -8.9128e-09,  3.8037e-07,  ..., -2.1271e-11,\n",
      "        -1.6399e-04,  7.6148e-03])\n",
      "tensor([-6.8444e-05,  2.4673e-06,  1.5064e-04,  ..., -7.3627e-08,\n",
      "        -5.5455e-04,  1.2029e-03])\n",
      "tensor([ 7.3999e-05, -2.1627e-07,  6.3030e-06,  ..., -8.2805e-09,\n",
      "        -7.7676e-05,  8.1317e-03])\n",
      "tensor([-2.6629e-03, -1.4120e-07,  4.0656e-08,  ..., -7.4536e-09,\n",
      "         3.4247e-05,  1.5049e-02])\n",
      "tensor([-7.6545e-04,  6.4150e-07,  7.7412e-07,  ..., -3.1031e-09,\n",
      "         1.5413e-06,  7.3727e-03])\n",
      "tensor([ 1.1335e-03,  3.2293e-08,  3.3645e-07,  ..., -2.8311e-10,\n",
      "        -1.3535e-06,  4.6885e-03])\n",
      "tensor([-1.8147e-03,  9.8991e-07,  2.2300e-06,  ..., -1.0112e-07,\n",
      "         1.0657e-04,  1.6976e-02])\n",
      "tensor([ 4.3103e-04, -2.3679e-06,  8.0045e-06,  ..., -6.3094e-09,\n",
      "        -4.5023e-05,  5.7786e-03])\n",
      "tensor([-1.9472e-03, -1.0463e-05,  5.6839e-07,  ...,  1.3369e-10,\n",
      "         5.8446e-06,  2.2294e-03])\n",
      "tensor([-1.9751e-02,  4.2935e-05,  4.0235e-07,  ..., -1.5880e-08,\n",
      "        -1.7545e-03,  5.7942e-03])\n",
      "tensor([ 2.4754e-03, -2.2459e-05,  1.4963e-05,  ..., -2.9424e-10,\n",
      "        -7.9145e-07,  5.4858e-03])\n",
      "tensor([ 2.7297e-03, -9.1539e-07,  1.0819e-06,  ..., -1.8268e-09,\n",
      "        -3.8285e-05,  8.6615e-03])\n",
      "tensor([ 5.5330e-04,  1.4503e-06,  6.7881e-06,  ..., -2.8565e-09,\n",
      "        -3.2234e-06,  1.8098e-02])\n",
      "tensor([-4.0546e-03, -1.2228e-05,  1.0813e-04,  ..., -6.2804e-08,\n",
      "         6.8620e-05,  4.1290e-03])\n",
      "tensor([-6.2348e-04, -7.9172e-07,  1.0979e-06,  ..., -2.2059e-09,\n",
      "         1.1844e-05,  3.1764e-03])\n",
      "tensor([-4.7192e-04, -4.4544e-06,  5.7948e-05,  ..., -1.5269e-07,\n",
      "        -6.1537e-05,  1.9423e-02])\n",
      "tensor([-7.4664e-05, -5.1825e-08,  3.6010e-06,  ..., -9.7921e-08,\n",
      "        -2.2399e-04,  1.0938e-02])\n",
      "tensor([-4.3362e-04, -3.1235e-07,  1.2179e-06,  ..., -2.1880e-09,\n",
      "         3.1652e-05,  3.4903e-03])\n",
      "tensor([ 1.0528e-02,  6.5787e-07,  6.1810e-08,  ..., -1.9335e-07,\n",
      "        -1.4171e-05,  9.1872e-02])\n",
      "tensor([-3.6661e-04, -1.2691e-06,  2.2987e-05,  ..., -2.2650e-08,\n",
      "        -1.5700e-06,  5.5746e-04])\n",
      "tensor([ 2.8136e-03,  2.8094e-06,  1.1922e-07,  ..., -2.0738e-07,\n",
      "        -1.4478e-06,  3.7440e-03])\n",
      "tensor([-5.7550e-03, -1.1238e-06, -2.8778e-08,  ..., -4.7894e-09,\n",
      "        -3.5105e-04,  2.5677e-02])\n",
      "tensor([ 4.1127e-04, -1.0399e-06,  4.6232e-06,  ..., -5.5949e-09,\n",
      "         7.6987e-05,  1.1033e-02])\n",
      "tensor([-9.8762e-04,  8.4085e-06,  2.0488e-06,  ..., -5.7865e-09,\n",
      "        -1.5229e-05,  1.2475e-03])\n",
      "tensor([-2.8263e-04, -2.0769e-06,  1.3841e-06,  ..., -1.3448e-08,\n",
      "        -1.2785e-04,  1.2837e-02])\n",
      "tensor([ 1.0154e-04, -2.2858e-06,  1.3187e-06,  ..., -6.1124e-09,\n",
      "         7.9687e-05,  4.8654e-03])\n",
      "tensor([ 7.4082e-04,  6.1829e-07,  3.0623e-06,  ..., -1.5602e-07,\n",
      "        -1.9084e-05,  2.2136e-03])\n",
      "tensor([-2.6821e-03, -4.1500e-08,  2.6317e-06,  ..., -3.2061e-08,\n",
      "         9.6386e-06,  7.2271e-03])\n",
      "tensor([-1.4746e-02, -3.3350e-05,  1.0417e-07,  ..., -2.8868e-08,\n",
      "        -7.3243e-07,  2.3708e-03])\n",
      "tensor([ 3.3414e-05, -2.2496e-06,  1.3346e-06,  ...,  3.1485e-08,\n",
      "         2.2088e-04,  2.0688e-02])\n",
      "tensor([-4.8937e-04,  1.7409e-07,  2.6936e-06,  ..., -1.0611e-08,\n",
      "         1.4634e-05,  2.9609e-03])\n",
      "tensor([ 3.6597e-03, -2.3784e-06,  2.2069e-06,  ..., -3.7293e-10,\n",
      "        -1.8143e-04,  2.1089e-01])\n",
      "tensor([-4.8756e-03, -8.9712e-08,  3.6968e-06,  ..., -4.0369e-07,\n",
      "         1.3465e-05,  1.2846e-02])\n",
      "tensor([-4.8882e-03,  4.7125e-07,  6.4294e-05,  ..., -1.2313e-09,\n",
      "         1.0411e-05,  4.8465e-03])\n",
      "tensor([-1.2985e-03, -4.1017e-06,  1.5767e-06,  ..., -1.1958e-10,\n",
      "         5.9471e-06,  4.1859e-02])\n",
      "tensor([-2.4604e-03,  2.7899e-07,  1.0696e-07,  ..., -2.8393e-09,\n",
      "         1.2230e-04,  3.4295e-02])\n",
      "tensor([-4.7960e-03, -1.0142e-06,  4.9904e-05,  ..., -6.6285e-10,\n",
      "         3.3252e-05,  6.4335e-03])\n",
      "tensor([-8.2437e-03,  1.0337e-06,  2.3978e-07,  ..., -4.7125e-10,\n",
      "        -3.0629e-05,  1.0844e-02])\n",
      "tensor([-8.9580e-03,  1.8100e-05,  8.0688e-07,  ..., -4.5899e-09,\n",
      "         3.1011e-04,  7.4085e-04])\n",
      "tensor([ 3.0937e-04,  2.6147e-06,  9.8821e-06,  ..., -6.2313e-08,\n",
      "        -5.1055e-06,  4.2198e-04])\n",
      "tensor([ 8.8365e-05,  1.3611e-06,  2.3593e-05,  ..., -6.9794e-08,\n",
      "        -3.4071e-06,  4.7509e-04])\n",
      "tensor([-8.7936e-03,  6.4917e-07,  9.0749e-06,  ..., -4.4027e-08,\n",
      "        -7.4628e-05,  5.2694e-03])\n",
      "tensor([ 1.4124e-04, -2.4971e-06,  5.5778e-06,  ..., -2.4691e-08,\n",
      "        -7.1232e-05,  1.1567e-02])\n",
      "tensor([-5.1945e-03, -8.0578e-07,  5.9495e-05,  ..., -7.2944e-10,\n",
      "         1.6496e-04,  7.2951e-03])\n",
      "tensor([-8.0164e-03,  2.0577e-06,  2.1129e-07,  ..., -1.0810e-09,\n",
      "        -3.4418e-05,  1.0865e-02])\n",
      "tensor([ 6.8515e-04,  4.2843e-08,  3.3098e-06,  ..., -1.8589e-07,\n",
      "        -5.8209e-04,  2.3813e-02])\n",
      "tensor([ 8.8705e-03,  3.8502e-06, -3.9226e-08,  ..., -5.7934e-10,\n",
      "        -3.9866e-05,  2.8259e-03])\n",
      "tensor([-3.2698e-04, -8.3106e-07,  6.1462e-07,  ..., -6.6698e-09,\n",
      "        -2.4176e-05,  2.1265e-05])\n",
      "tensor([ 2.0646e-03,  7.5616e-07,  9.3340e-07,  ..., -3.5340e-09,\n",
      "        -1.6650e-03,  2.0194e-03])\n",
      "tensor([-3.5780e-02, -2.6995e-06,  7.1560e-08,  ...,  1.7235e-08,\n",
      "         7.7231e-06,  5.0601e-03])\n",
      "tensor([-5.3999e-03, -2.1457e-06,  1.4305e-08,  ..., -1.2329e-08,\n",
      "        -2.8596e-03,  1.3569e-01])\n",
      "tensor([-4.6736e-04, -8.2856e-07,  4.0907e-07,  ..., -3.2663e-09,\n",
      "        -2.6148e-05,  2.5630e-04])\n",
      "tensor([-1.4009e-03,  5.5817e-06,  8.8482e-07,  ..., -1.1133e-08,\n",
      "        -7.4012e-05,  8.2595e-03])\n",
      "tensor([-5.6555e-03, -8.6309e-07,  4.8876e-05,  ..., -6.6924e-10,\n",
      "         3.1080e-05,  7.1409e-03])\n",
      "tensor([-1.2569e-02,  2.3590e-06,  7.2846e-08,  ...,  3.0698e-10,\n",
      "        -2.1786e-05,  1.3220e-02])\n",
      "tensor([-1.3698e-02,  1.3373e-05,  1.1744e-05,  ...,  7.2288e-09,\n",
      "         2.1770e-03,  3.8493e-02])\n",
      "tensor([ 4.1768e-04, -7.8472e-07,  2.1801e-06,  ..., -1.0491e-08,\n",
      "        -2.5184e-05, -7.6697e-04])\n",
      "tensor([ 3.8119e-03, -3.5256e-06,  5.3868e-06,  ..., -5.1832e-10,\n",
      "        -1.4433e-04,  2.1802e-01])\n",
      "tensor([-3.1727e-03,  6.9974e-07,  2.3007e-05,  ..., -1.7931e-09,\n",
      "         1.2102e-04,  2.9326e-03])\n",
      "tensor([-4.5012e-04, -3.1702e-06,  1.6830e-05,  ..., -7.1429e-09,\n",
      "         1.2667e-04,  3.2273e-02])\n",
      "tensor([-3.2793e-05,  1.5944e-06,  1.2486e-05,  ..., -2.9833e-08,\n",
      "        -1.2703e-06,  1.1461e-03])\n",
      "tensor([-9.1301e-03, -4.3152e-07,  2.9640e-07,  ..., -5.8386e-09,\n",
      "        -6.5342e-05,  1.4469e-03])\n",
      "tensor([-4.6087e-03, -1.0838e-05,  1.4867e-05,  ..., -1.1721e-08,\n",
      "        -1.8027e-06,  5.1780e-03])\n",
      "tensor([ 1.8919e-03, -7.0347e-08,  4.5817e-06,  ..., -2.0038e-08,\n",
      "         4.5601e-05,  9.6797e-03])\n",
      "tensor([ 4.8992e-04, -5.0185e-06,  4.7604e-06,  ..., -8.0630e-08,\n",
      "        -1.6756e-05,  3.3272e-03])\n",
      "tensor([-5.7526e-03, -2.3298e-06,  1.4928e-05,  ..., -1.8244e-09,\n",
      "        -3.4033e-05,  6.4395e-03])\n",
      "tensor([-6.4603e-04, -2.9725e-06,  3.1145e-05,  ..., -1.5448e-08,\n",
      "        -3.0699e-05,  6.8665e-03])\n",
      "tensor([-7.3180e-04, -1.5705e-05,  4.0838e-08,  ..., -1.7724e-08,\n",
      "         1.3387e-05,  2.3808e-03])\n",
      "tensor([ 6.2324e-03, -1.9718e-06,  1.0996e-06,  ..., -2.2975e-10,\n",
      "        -2.9548e-04,  3.2284e-01])\n",
      "tensor([-8.9400e-03,  1.4110e-06,  2.8581e-05,  ..., -9.4819e-09,\n",
      "         4.3540e-06,  1.3939e-03])\n",
      "tensor([-6.3926e-03, -4.2834e-07,  3.4765e-06,  ..., -4.7062e-10,\n",
      "        -1.9747e-05,  1.8131e-03])\n",
      "tensor([-1.1049e-03,  3.4917e-07,  2.1144e-06,  ..., -1.7346e-09,\n",
      "        -1.4712e-04,  9.6423e-04])\n",
      "tensor([ 1.3760e-03, -9.9166e-06,  6.6703e-07,  ..., -2.0944e-09,\n",
      "         1.6807e-04,  3.0042e-03])\n",
      "tensor([-1.5210e-02, -3.3485e-07,  4.3517e-05,  ..., -7.1182e-09,\n",
      "        -1.3291e-05,  1.2894e-02])\n",
      "tensor([-1.7553e-04, -8.8069e-07,  5.0625e-05,  ..., -8.6985e-11,\n",
      "        -5.3523e-05,  1.7497e-02])\n",
      "tensor([ 2.0290e-03, -5.2407e-07,  2.3274e-07,  ..., -1.4416e-09,\n",
      "         7.4493e-06,  2.7542e-02])\n",
      "tensor([ 1.0208e-02, -4.4280e-06,  1.6896e-06,  ..., -5.1590e-09,\n",
      "         5.6945e-05,  2.2368e-03])\n",
      "tensor([-1.8368e-03,  3.1999e-08,  3.0926e-07,  ..., -3.6805e-09,\n",
      "        -1.1354e-05,  3.8832e-02])\n",
      "tensor([-2.0800e-04, -1.2027e-06,  2.5955e-06,  ..., -6.5553e-08,\n",
      "         1.7312e-06,  7.2947e-02])\n",
      "tensor([-1.9680e-03,  4.2346e-07,  2.0724e-05,  ..., -7.7682e-08,\n",
      "         1.6248e-05,  6.5506e-02])\n",
      "tensor([-1.1656e-02,  1.0801e-06, -7.5703e-09,  ...,  2.3370e-09,\n",
      "        -7.0462e-05,  1.3414e-02])\n",
      "tensor([-1.1697e-02,  8.6927e-06,  9.5527e-08,  ..., -2.7975e-09,\n",
      "        -7.2351e-04,  2.9013e-03])\n",
      "tensor([-2.9255e-02,  5.6864e-08,  2.8276e-07,  ..., -8.4383e-12,\n",
      "        -7.0709e-05,  3.4337e-03])\n",
      "tensor([-6.6905e-04, -1.3941e-06,  2.0356e-08,  ..., -4.4697e-10,\n",
      "         4.1420e-05,  1.2939e-03])\n",
      "tensor([-7.6219e-03,  8.9006e-07,  1.7089e-07,  ..., -3.6247e-09,\n",
      "         4.5454e-05,  6.8112e-03])\n",
      "tensor([-3.7520e-02,  3.8606e-07,  3.0429e-07,  ..., -3.3114e-11,\n",
      "        -7.5811e-05,  8.2186e-03])\n",
      "tensor([-3.2367e-03,  1.5458e-05,  1.4341e-05,  ..., -1.0494e-07,\n",
      "         2.8697e-03,  4.2515e-02])\n",
      "tensor([ 1.1499e-03, -3.3159e-06,  4.5652e-06,  ..., -1.8227e-09,\n",
      "         6.9115e-06,  8.7376e-03])\n",
      "tensor([-4.9626e-03, -5.6994e-08,  2.8243e-08,  ..., -8.6871e-10,\n",
      "         1.5260e-04,  6.9085e-03])\n",
      "tensor([ 5.6386e-04, -3.7589e-07,  5.8973e-06,  ..., -2.3787e-08,\n",
      "         2.6915e-06,  6.2096e-03])\n",
      "tensor([-2.6936e-03,  1.0064e-05,  9.2744e-06,  ..., -6.0109e-08,\n",
      "         1.1335e-03,  4.4642e-02])\n",
      "tensor([-2.5001e-03, -1.2624e-05,  1.3197e-05,  ..., -4.2359e-10,\n",
      "         5.6594e-06,  1.5450e-02])\n",
      "tensor([ 1.0288e-03, -3.9516e-07,  2.3699e-06,  ..., -7.4934e-09,\n",
      "         1.3296e-05,  6.6397e-03])\n",
      "tensor([-4.7973e-02, -2.6875e-07,  9.1977e-07,  ..., -9.3780e-09,\n",
      "         6.6744e-06,  1.5769e-02])\n",
      "tensor([-9.9058e-03,  3.6561e-07,  1.0790e-06,  ..., -6.1402e-11,\n",
      "        -1.3203e-04,  7.9685e-03])\n",
      "tensor([ 3.7937e-03, -3.4277e-07,  5.0646e-07,  ..., -1.3098e-09,\n",
      "        -3.4811e-05,  1.1639e-02])\n",
      "tensor([-4.1197e-03,  2.8756e-07,  2.8779e-05,  ..., -3.2798e-09,\n",
      "         9.2889e-06,  2.5849e-03])\n",
      "tensor([-1.2444e-03,  1.0002e-06,  1.3083e-06,  ..., -1.2680e-09,\n",
      "        -1.3157e-06,  9.3233e-03])\n",
      "tensor([-9.6926e-03,  1.0634e-07,  1.0081e-06,  ..., -1.8178e-07,\n",
      "         1.8817e-05,  9.8676e-03])\n",
      "tensor([-7.4180e-06,  9.9857e-07,  1.5845e-06,  ..., -2.0065e-08,\n",
      "         3.7918e-05,  5.9761e-03])\n",
      "tensor([-6.6212e-04, -1.6189e-06,  8.8182e-07,  ..., -4.4376e-09,\n",
      "         4.4488e-05,  9.9249e-03])\n",
      "tensor([ 8.9297e-05, -9.0536e-07,  7.6417e-06,  ..., -3.4810e-09,\n",
      "         2.1887e-05,  9.8216e-03])\n",
      "tensor([ 8.3114e-03, -3.1562e-08,  4.1180e-05,  ..., -6.1435e-09,\n",
      "        -7.8749e-05,  5.3473e-03])\n",
      "tensor([-1.3909e-02, -2.9661e-06,  1.0440e-05,  ..., -3.9865e-09,\n",
      "         1.0908e-06,  1.8156e-04])\n",
      "tensor([-9.2340e-03,  7.5601e-07,  1.3401e-07,  ...,  3.3268e-10,\n",
      "         9.4960e-04,  8.0880e-02])\n",
      "tensor([-5.2614e-03, -3.4451e-06,  8.5324e-06,  ..., -1.4701e-09,\n",
      "        -1.5236e-05,  6.3958e-03])\n",
      "tensor([-7.0802e-04, -6.0897e-06,  6.5197e-06,  ..., -2.4578e-08,\n",
      "         7.7492e-04,  8.4397e-03])\n",
      "tensor([-7.1184e-05, -2.6303e-06,  2.3242e-06,  ..., -1.7586e-09,\n",
      "         2.3864e-05,  2.9803e-03])\n",
      "tensor([-1.0510e-02,  5.3844e-08,  2.9849e-07,  ..., -1.8532e-10,\n",
      "        -3.6318e-05,  9.0520e-03])\n",
      "tensor([-5.5492e-03,  2.5871e-06,  7.6161e-07,  ..., -1.5063e-09,\n",
      "         5.1120e-05,  2.9371e-03])\n",
      "tensor([ 1.1151e-03, -6.2011e-07,  2.4090e-05,  ..., -6.5197e-09,\n",
      "        -1.4845e-04,  1.7433e-02])\n",
      "tensor([-8.3935e-04, -5.6454e-07,  3.0721e-06,  ..., -2.9522e-09,\n",
      "        -6.5979e-06,  3.3709e-02])\n",
      "tensor([-2.6252e-02, -3.7133e-05, -2.4153e-04,  ..., -1.3646e-06,\n",
      "         9.0549e-04,  5.2232e-04])\n",
      "tensor([-8.6455e-05, -9.5189e-08,  6.5169e-06,  ...,  1.0221e-09,\n",
      "         3.5891e-05,  2.3464e-02])\n",
      "tensor([-1.1066e-02,  2.6386e-06,  6.4184e-08,  ..., -4.6735e-08,\n",
      "         1.3105e-04,  1.3234e-02])\n",
      "tensor([-4.0505e-04,  4.2811e-05,  4.3990e-05,  ..., -1.5537e-09,\n",
      "         1.0993e-05,  6.0696e-03])\n",
      "tensor([ 1.8659e-02,  8.2812e-06,  2.9004e-07,  ..., -8.5536e-09,\n",
      "        -2.1924e-06,  2.8561e-02])\n",
      "tensor([-1.4131e-03,  3.2744e-08,  1.0696e-07,  ...,  3.7009e-09,\n",
      "        -1.0396e-05,  9.9926e-03])\n",
      "tensor([-3.4848e-04,  1.8137e-06,  1.4706e-05,  ..., -3.9524e-10,\n",
      "         7.1247e-06,  1.9623e-02])\n",
      "tensor([-3.8338e-02, -2.3952e-06,  2.6719e-07,  ..., -7.6703e-09,\n",
      "        -3.1210e-05,  8.7726e-03])\n",
      "tensor([-1.0638e-04, -1.4041e-06,  4.4447e-05,  ..., -1.9415e-09,\n",
      "         5.8083e-06,  5.0429e-03])\n",
      "tensor([ 4.7344e-04,  1.3474e-07,  4.1188e-05,  ..., -4.3811e-09,\n",
      "        -1.6740e-05,  3.6929e-03])\n",
      "tensor([-3.1819e-04, -1.0231e-06,  1.3630e-07,  ..., -1.6074e-08,\n",
      "         1.2446e-05,  2.3014e-03])\n",
      "tensor([ 4.4240e-04,  2.8915e-07,  9.2946e-06,  ..., -7.6710e-09,\n",
      "         4.3968e-05,  5.7972e-03])\n",
      "tensor([-2.7657e-03, -2.4703e-06,  6.6678e-07,  ..., -1.6300e-08,\n",
      "        -1.2072e-04,  1.1047e-02])\n",
      "tensor([ 2.7682e-05,  1.6150e-06,  1.8943e-05,  ..., -2.2577e-10,\n",
      "         9.5506e-06,  1.2413e-02])\n",
      "tensor([-3.2020e-02,  4.9025e-06, -4.8170e-03,  ..., -1.2608e-06,\n",
      "         7.5707e-04,  6.6592e-04])\n",
      "tensor([-2.8297e-04, -2.8850e-07,  2.8177e-08,  ...,  1.9978e-09,\n",
      "        -3.6963e-04,  7.9844e-03])\n",
      "tensor([-2.0767e-04,  1.0652e-06,  3.0355e-07,  ..., -3.0974e-09,\n",
      "        -1.5360e-05,  5.5772e-03])\n",
      "tensor([-4.9461e-03,  6.3189e-06,  3.3097e-07,  ..., -2.5057e-08,\n",
      "         3.6329e-06,  3.6696e-03])\n",
      "<class 'torch.Tensor'>\n"
     ]
    }
   ],
   "source": [
    "# create a sentence #\n",
    "sentence = Sentence(_input[0])\n",
    "# embed words in sentence #\n",
    "stacked_embeddings.embed(sentence)\n",
    "for token in sentence:\n",
    "    print(token.embedding)\n",
    "# data type and size of embedding #\n",
    "print(type(token.embedding))\n",
    "# storing size (length) #\n",
    "z = token.embedding.size()[0]"
   ]
  },
  {
   "cell_type": "code",
   "execution_count": 80,
   "metadata": {},
   "outputs": [
    {
     "name": "stderr",
     "output_type": "stream",
     "text": [
      "\n",
      "\n",
      "  0%|                                                  | 0/100 [00:00<?, ?it/s]\n",
      "\n",
      "  1%|▍                                         | 1/100 [00:23<39:12, 23.77s/it]\n",
      "\n",
      "  2%|▊                                       | 2/100 [01:43<1:06:05, 40.47s/it]\n",
      "\n",
      "  3%|█▏                                      | 3/100 [02:37<1:12:15, 44.69s/it]\n",
      "\n",
      "  4%|█▌                                      | 4/100 [03:59<1:29:31, 55.95s/it]\n",
      "\n",
      "  5%|██                                      | 5/100 [04:09<1:06:25, 41.95s/it]\n",
      "\n",
      "  6%|██▌                                       | 6/100 [04:15<49:05, 31.34s/it]\n",
      "\n",
      "  7%|██▉                                       | 7/100 [04:34<42:49, 27.63s/it]\n",
      "\n",
      "  8%|███▎                                      | 8/100 [05:20<50:32, 32.97s/it]\n",
      "\n",
      "  9%|███▊                                      | 9/100 [05:50<48:39, 32.08s/it]\n",
      "\n",
      " 10%|████                                     | 10/100 [06:30<52:00, 34.67s/it]\n",
      "\n",
      " 11%|████▌                                    | 11/100 [06:41<40:33, 27.35s/it]\n",
      "\n",
      " 12%|████▉                                    | 12/100 [07:25<47:46, 32.57s/it]\n",
      "\n",
      " 13%|█████▎                                   | 13/100 [07:31<35:19, 24.36s/it]\n",
      "\n",
      " 14%|█████▋                                   | 14/100 [07:38<27:34, 19.24s/it]\n",
      "\n",
      " 15%|██████▏                                  | 15/100 [07:46<22:31, 15.91s/it]\n",
      "\n",
      " 16%|██████▌                                  | 16/100 [08:07<24:29, 17.50s/it]\n",
      "\n",
      " 17%|██████▉                                  | 17/100 [08:14<19:49, 14.33s/it]\n",
      "\n",
      " 18%|███████▍                                 | 18/100 [08:38<23:21, 17.09s/it]\n",
      "\n",
      " 19%|███████▊                                 | 19/100 [09:09<28:56, 21.44s/it]\n",
      "\n",
      " 20%|████████▏                                | 20/100 [10:28<51:32, 38.65s/it]\n",
      "\n",
      " 21%|████████▏                              | 21/100 [11:38<1:03:04, 47.91s/it]\n",
      "\n",
      " 22%|█████████                                | 22/100 [12:04<53:41, 41.31s/it]\n",
      "\n",
      " 23%|█████████▍                               | 23/100 [12:49<54:24, 42.39s/it]\n",
      "\n",
      " 24%|█████████▊                               | 24/100 [13:24<51:13, 40.44s/it]\n",
      "\n",
      " 25%|██████████▎                              | 25/100 [13:40<41:15, 33.00s/it]\n",
      "\n",
      " 26%|██████████▋                              | 26/100 [14:05<37:51, 30.70s/it]\n",
      "\n",
      " 27%|███████████                              | 27/100 [14:41<39:12, 32.23s/it]\n",
      "\n",
      " 28%|███████████▍                             | 28/100 [14:58<33:13, 27.69s/it]\n",
      "\n",
      " 29%|███████████▉                             | 29/100 [15:18<29:58, 25.33s/it]\n",
      "\n",
      " 30%|████████████▎                            | 30/100 [15:28<24:14, 20.77s/it]\n",
      "\n",
      " 31%|████████████▋                            | 31/100 [15:44<22:05, 19.21s/it]\n",
      "\n",
      " 32%|█████████████                            | 32/100 [16:25<29:12, 25.77s/it]\n",
      "\n",
      " 33%|█████████████▌                           | 33/100 [16:29<21:38, 19.38s/it]\n",
      "\n",
      " 34%|█████████████▉                           | 34/100 [16:38<17:41, 16.08s/it]\n",
      "\n",
      " 35%|██████████████▎                          | 35/100 [17:02<20:00, 18.47s/it]\n",
      "\n",
      " 36%|██████████████▊                          | 36/100 [18:06<34:27, 32.30s/it]\n",
      "\n",
      " 37%|██████████████▍                        | 37/100 [20:37<1:11:14, 67.85s/it]\n",
      "\n",
      " 38%|███████████████▌                         | 38/100 [21:06<57:53, 56.03s/it]\n",
      "\n",
      " 39%|███████████████▉                         | 39/100 [21:19<43:57, 43.23s/it]\n",
      "\n",
      " 40%|████████████████▍                        | 40/100 [21:42<37:03, 37.05s/it]\n",
      "\n",
      " 41%|████████████████▊                        | 41/100 [22:08<33:19, 33.89s/it]\n",
      "\n",
      " 42%|█████████████████▏                       | 42/100 [22:27<28:16, 29.24s/it]\n",
      "\n",
      " 43%|█████████████████▋                       | 43/100 [23:30<37:33, 39.54s/it]\n",
      "\n",
      " 44%|██████████████████                       | 44/100 [23:41<28:55, 31.00s/it]\n",
      "\n",
      " 45%|██████████████████▍                      | 45/100 [23:56<24:04, 26.27s/it]\n",
      "\n",
      " 46%|██████████████████▊                      | 46/100 [24:08<19:39, 21.84s/it]\n",
      "\n",
      " 47%|███████████████████▎                     | 47/100 [24:59<26:56, 30.50s/it]\n",
      "\n",
      " 48%|███████████████████▋                     | 48/100 [25:11<21:43, 25.06s/it]\n",
      "\n",
      " 49%|████████████████████                     | 49/100 [25:27<19:02, 22.40s/it]\n",
      "\n",
      " 50%|████████████████████▌                    | 50/100 [25:35<14:56, 17.92s/it]\n",
      "\n",
      " 51%|████████████████████▉                    | 51/100 [25:44<12:29, 15.30s/it]\n",
      "\n",
      " 52%|█████████████████████▎                   | 52/100 [25:50<10:01, 12.53s/it]\n",
      "\n",
      " 53%|█████████████████████▋                   | 53/100 [25:59<08:55, 11.39s/it]\n",
      "\n",
      " 54%|██████████████████████▏                  | 54/100 [26:04<07:23,  9.64s/it]\n",
      "\n",
      " 55%|██████████████████████▌                  | 55/100 [26:11<06:40,  8.91s/it]\n",
      "\n",
      " 56%|██████████████████████▉                  | 56/100 [26:54<14:02, 19.15s/it]\n",
      "\n",
      " 57%|███████████████████████▎                 | 57/100 [27:45<20:29, 28.58s/it]\n",
      "\n",
      " 58%|███████████████████████▊                 | 58/100 [28:08<18:46, 26.81s/it]\n",
      "\n",
      " 59%|████████████████████████▏                | 59/100 [29:11<25:52, 37.86s/it]\n",
      "\n",
      " 60%|████████████████████████▌                | 60/100 [29:17<18:43, 28.08s/it]\n",
      "\n",
      " 61%|█████████████████████████                | 61/100 [29:21<13:41, 21.08s/it]\n",
      "\n",
      " 62%|█████████████████████████▍               | 62/100 [29:31<11:14, 17.74s/it]\n",
      "\n",
      " 63%|█████████████████████████▊               | 63/100 [29:40<09:13, 14.96s/it]\n",
      "\n",
      " 64%|██████████████████████████▏              | 64/100 [29:45<07:15, 12.10s/it]\n",
      "\n",
      " 65%|██████████████████████████▋              | 65/100 [30:00<07:33, 12.96s/it]\n",
      "\n",
      " 66%|███████████████████████████              | 66/100 [30:34<10:56, 19.30s/it]\n",
      "\n",
      " 67%|███████████████████████████▍             | 67/100 [30:50<10:06, 18.38s/it]\n",
      "\n",
      " 68%|███████████████████████████▉             | 68/100 [31:13<10:25, 19.54s/it]\n",
      "\n",
      " 69%|████████████████████████████▎            | 69/100 [32:24<18:06, 35.06s/it]\n",
      "\n",
      " 70%|████████████████████████████▋            | 70/100 [32:35<13:56, 27.88s/it]\n",
      "\n",
      " 71%|█████████████████████████████            | 71/100 [33:50<20:20, 42.09s/it]\n",
      "\n",
      " 72%|█████████████████████████████▌           | 72/100 [34:40<20:39, 44.29s/it]\n",
      "\n",
      " 73%|█████████████████████████████▉           | 73/100 [35:11<18:08, 40.33s/it]\n",
      "\n",
      " 74%|██████████████████████████████▎          | 74/100 [35:28<14:25, 33.27s/it]\n",
      "\n",
      " 75%|██████████████████████████████▊          | 75/100 [36:05<14:25, 34.61s/it]\n",
      "\n",
      " 76%|███████████████████████████████▏         | 76/100 [37:20<18:40, 46.67s/it]\n",
      "\n",
      " 77%|███████████████████████████████▌         | 77/100 [38:30<20:32, 53.61s/it]\n",
      "\n",
      " 78%|███████████████████████████████▉         | 78/100 [38:59<16:56, 46.20s/it]\n",
      "\n",
      " 79%|████████████████████████████████▍        | 79/100 [39:13<12:50, 36.67s/it]\n",
      "\n",
      " 80%|████████████████████████████████▊        | 80/100 [39:21<09:18, 27.91s/it]\n",
      "\n",
      " 81%|█████████████████████████████████▏       | 81/100 [39:34<07:23, 23.36s/it]\n",
      "\n",
      " 82%|█████████████████████████████████▌       | 82/100 [39:38<05:19, 17.76s/it]\n",
      "\n",
      " 83%|██████████████████████████████████       | 83/100 [40:09<06:09, 21.75s/it]\n",
      "\n",
      " 84%|██████████████████████████████████▍      | 84/100 [40:21<05:01, 18.87s/it]\n",
      "\n",
      " 85%|██████████████████████████████████▊      | 85/100 [40:32<04:05, 16.37s/it]\n",
      "\n",
      " 86%|███████████████████████████████████▎     | 86/100 [40:51<04:00, 17.20s/it]\n",
      "\n",
      " 87%|███████████████████████████████████▋     | 87/100 [41:32<05:15, 24.30s/it]\n",
      "\n",
      " 88%|████████████████████████████████████     | 88/100 [41:40<03:51, 19.26s/it]\n",
      "\n",
      " 89%|████████████████████████████████████▍    | 89/100 [42:01<03:37, 19.78s/it]\n",
      "\n",
      " 90%|████████████████████████████████████▉    | 90/100 [42:18<03:09, 18.95s/it]\n",
      "\n",
      " 91%|█████████████████████████████████████▎   | 91/100 [42:47<03:19, 22.19s/it]\n",
      "\n",
      " 92%|█████████████████████████████████████▋   | 92/100 [43:16<03:14, 24.26s/it]\n",
      "\n",
      " 93%|██████████████████████████████████████▏  | 93/100 [43:28<02:23, 20.45s/it]\n",
      "\n",
      " 94%|██████████████████████████████████████▌  | 94/100 [44:31<03:19, 33.24s/it]\n",
      "\n",
      " 95%|██████████████████████████████████████▉  | 95/100 [44:37<02:05, 25.17s/it]\n",
      "\n",
      " 96%|███████████████████████████████████████▎ | 96/100 [44:47<01:21, 20.42s/it]\n",
      "\n",
      " 97%|███████████████████████████████████████▊ | 97/100 [44:58<00:53, 17.74s/it]\n",
      "\n",
      " 98%|████████████████████████████████████████▏| 98/100 [45:11<00:32, 16.27s/it]\n",
      "\n",
      " 99%|████████████████████████████████████████▌| 99/100 [46:19<00:31, 31.86s/it]\n",
      "\n",
      "100%|████████████████████████████████████████| 100/100 [46:49<00:00, 31.36s/it]"
     ]
    }
   ],
   "source": [
    "import torch\n",
    "from tqdm import tqdm ## tracks progress of loop ##\n",
    "\n",
    "# creating a tensor for storing sentence embeddings #\n",
    "s = torch.zeros(0,z)\n",
    "\n",
    "# iterating Sentence (tqdm tracks progress) #\n",
    "for text in tqdm(_input):   \n",
    "    # empty tensor for words #\n",
    "    w = torch.zeros(0,z)   \n",
    "    sentence = Sentence(text)\n",
    "    stacked_embeddings.embed(sentence)\n",
    "    # for every word #\n",
    "    for token in sentence:\n",
    "     # storing word Embeddings of each word in a sentence #\n",
    "      w = torch.cat((w,token.embedding.view(-1,z)),0)\n",
    "    # storing sentence Embeddings (mean of embeddings of all words)   #\n",
    "    s = torch.cat((s, w.mean(dim = 0).view(-1, z)),0)"
   ]
  },
  {
   "cell_type": "code",
   "execution_count": 86,
   "metadata": {},
   "outputs": [
    {
     "data": {
      "text/plain": [
       "100"
      ]
     },
     "execution_count": 86,
     "metadata": {},
     "output_type": "execute_result"
    },
    {
     "data": {
      "text/plain": [
       "torch.Tensor"
      ]
     },
     "execution_count": 86,
     "metadata": {},
     "output_type": "execute_result"
    }
   ],
   "source": [
    "len(s)\n",
    "type(s)"
   ]
  },
  {
   "cell_type": "code",
   "execution_count": 88,
   "metadata": {},
   "outputs": [
    {
     "name": "stdout",
     "output_type": "stream",
     "text": [
      "Topic modelling for 5 topics\n"
     ]
    },
    {
     "data": {
      "text/plain": [
       "GaussianMixture(covariance_type='full', init_params='kmeans', max_iter=100,\n",
       "        means_init=None, n_components=5, n_init=1, precisions_init=None,\n",
       "        random_state=None, reg_covar=1e-06, tol=0.001, verbose=0,\n",
       "        verbose_interval=10, warm_start=False, weights_init=None)"
      ]
     },
     "execution_count": 88,
     "metadata": {},
     "output_type": "execute_result"
    }
   ],
   "source": [
    "from sklearn.mixture import GaussianMixture\n",
    "\n",
    "n_topics=5\n",
    "print('Topic modelling for', n_topics, 'topics')\n",
    "gmm = GaussianMixture(n_components=n_topics)#, covariance_type='full')\n",
    "\n",
    "gmm.fit(s)\n",
    "topic_assignment_s = gmm.predict(s)"
   ]
  },
  {
   "cell_type": "code",
   "execution_count": 89,
   "metadata": {},
   "outputs": [],
   "source": [
    "import numpy as np\n",
    "cluster_centers_s=list()\n",
    "for i in range(n_topics):\n",
    "   # print(i)\n",
    "    indices = np.where(topic_assignment_s==i)[0]\n",
    "    center = np.array(embeddings_rnn)[indices].mean(axis=0)\n",
    "    cluster_centers_s.append(center)"
   ]
  },
  {
   "cell_type": "code",
   "execution_count": 90,
   "metadata": {},
   "outputs": [
    {
     "name": "stdout",
     "output_type": "stream",
     "text": [
      "Wall time: 1.69 s\n"
     ]
    }
   ],
   "source": [
    "from sklearn.manifold import TSNE\n",
    "tsne=TSNE()\n",
    "\n",
    "%time vecs2d_s = tsne.fit_transform(embeddings_rnn)"
   ]
  },
  {
   "cell_type": "code",
   "execution_count": 91,
   "metadata": {},
   "outputs": [
    {
     "data": {
      "text/plain": [
       "<matplotlib.collections.PathCollection at 0xcc6e193240>"
      ]
     },
     "execution_count": 91,
     "metadata": {},
     "output_type": "execute_result"
    },
    {
     "data": {
      "image/png": "[encoded data removed]",
      "text/plain": [
       "<Figure size 432x288 with 1 Axes>"
      ]
     },
     "metadata": {},
     "output_type": "display_data"
    }
   ],
   "source": [
    "import matplotlib.pyplot as plt\n",
    "\n",
    "plt.scatter(vecs2d_s[:,0], vecs2d_s[:,1],  c=topic_assignment_s, s=40, cmap='viridis')\n",
    "plt.savefig('cluster_distribution_rnn.png')"
   ]
  },
  {
   "cell_type": "code",
   "execution_count": 20,
   "metadata": {},
   "outputs": [
    {
     "ename": "NameError",
     "evalue": "name 'word' is not defined",
     "output_type": "error",
     "traceback": [
      "\u001b[1;31m---------------------------------------------------------------------------\u001b[0m",
      "\u001b[1;31mNameError\u001b[0m                                 Traceback (most recent call last)",
      "\u001b[1;32m<ipython-input-20-906610d76575>\u001b[0m in \u001b[0;36m<module>\u001b[1;34m()\u001b[0m\n\u001b[1;32m----> 1\u001b[1;33m \u001b[0msentence\u001b[0m \u001b[1;33m=\u001b[0m \u001b[0mSentence\u001b[0m\u001b[1;33m(\u001b[0m\u001b[0mword\u001b[0m\u001b[1;33m)\u001b[0m\u001b[1;33m\u001b[0m\u001b[0m\n\u001b[0m\u001b[0;32m      2\u001b[0m \u001b[0mdocument_embeddings\u001b[0m\u001b[1;33m.\u001b[0m\u001b[0membed\u001b[0m\u001b[1;33m(\u001b[0m\u001b[0msentence\u001b[0m\u001b[1;33m)\u001b[0m\u001b[1;33m\u001b[0m\u001b[0m\n\u001b[0;32m      3\u001b[0m \u001b[0mdeembd\u001b[0m \u001b[1;33m=\u001b[0m \u001b[0mnp\u001b[0m\u001b[1;33m.\u001b[0m\u001b[0marray\u001b[0m\u001b[1;33m(\u001b[0m\u001b[0msentence\u001b[0m\u001b[1;33m.\u001b[0m\u001b[0mget_embedding\u001b[0m\u001b[1;33m(\u001b[0m\u001b[1;33m)\u001b[0m\u001b[1;33m)\u001b[0m\u001b[1;33m\u001b[0m\u001b[0m\n\u001b[0;32m      4\u001b[0m \u001b[1;33m\u001b[0m\u001b[0m\n\u001b[0;32m      5\u001b[0m \u001b[0mde_embedding\u001b[0m\u001b[1;33m.\u001b[0m\u001b[0membed\u001b[0m\u001b[1;33m(\u001b[0m\u001b[0msentence\u001b[0m\u001b[1;33m)\u001b[0m\u001b[1;33m\u001b[0m\u001b[0m\n",
      "\u001b[1;31mNameError\u001b[0m: name 'word' is not defined"
     ]
    }
   ],
   "source": [
    "sentence = Sentence(word)\n",
    "document_embeddings.embed(sentence)\n",
    "deembd = np.array(sentence.get_embedding())\n",
    "\n",
    "de_embedding.embed(sentence)\n",
    "docembd = np.array(sentence.get_embedding())\n",
    "deembd - docembd"
   ]
  },
  {
   "cell_type": "code",
   "execution_count": null,
   "metadata": {},
   "outputs": [],
   "source": []
  },
  {
   "cell_type": "code",
   "execution_count": null,
   "metadata": {},
   "outputs": [],
   "source": []
  },
  {
   "cell_type": "code",
   "execution_count": null,
   "metadata": {},
   "outputs": [
    {
     "name": "stderr",
     "output_type": "stream",
     "text": [
      "100%|███████████████████████████████| 231508/231508 [00:00<00:00, 644305.17B/s]\n",
      "  6%|█▌                       | 25484288/407873900 [02:40<2:20:03, 45504.87B/s]"
     ]
    }
   ],
   "source": [
    "from flair.embeddings import BertEmbeddings\n",
    "bert_embeddings = BertEmbeddings()"
   ]
  },
  {
   "cell_type": "code",
   "execution_count": null,
   "metadata": {},
   "outputs": [],
   "source": [
    "def generate_embeddings(text_list, flair_document_embedding_generator):\n",
    "    \"\"\"Generates Embeddings for a list of strings \"text_list\" using a flair document embedding object\"\"\"\n",
    "    embeddings = []\n",
    "    for _txt in tqdm(text_list):\n",
    "        # TODO: should use segtok to split texts into sentences and then encode each sentence individually\n",
    "        # as in this example:\n",
    "        # https://github.com/zalandoresearch/flair/blob/master/resources/docs/TUTORIAL_2_TAGGING.md#tagging-a-list-of-sentences\n",
    "        # create a flair sentence object\n",
    "\n",
    "\n",
    "        if _txt == \"\":\n",
    "            _txt = \" \"\n",
    "\n",
    "        from segtok.segmenter import split_single\n",
    "        sentences = [Sentence(sent, use_tokenizer=True) for sent in split_single(_txt)]\n",
    "\n",
    "        # sentence = Sentence(_txt)\n",
    "        try:\n",
    "            # embed the sentence(s) using document embedding\n",
    "            flair_document_embedding_generator.embed(sentences)\n",
    "        except Exception as e:\n",
    "            print('ERROR')\n",
    "            print(sentence)\n",
    "            print(sentence.get_embedding().shape)\n",
    "            print(e)\n",
    "            print()\n",
    "        # store embedding\n",
    "        emb = np.mean([np.array(sent.get_embedding()) for sent in sentences], axis=0).tolist()\n",
    "        #emb = sentence.get_embedding().tolist()\n",
    "        embeddings.append(emb)\n",
    "\n",
    "    return np.array(embeddings)"
   ]
  },
  {
   "cell_type": "code",
   "execution_count": 21,
   "metadata": {},
   "outputs": [],
   "source": [
    "# Extract words from vocabulary\n",
    "   \n",
    "words = list(vocab)\n",
    "    \n",
    "word_embeddings=[]\n",
    "for word in words:\n",
    "    \n",
    "    sentence = Sentence(word)\n",
    "    document_embeddings.embed(sentence)\n",
    "    #de_embedding.embed(sentence)\n",
    "    word_embeddings.append(sentence.get_embedding().tolist())\n",
    "    \n",
    "word_embeddings = np.array(word_embeddings)"
   ]
  },
  {
   "cell_type": "code",
   "execution_count": 22,
   "metadata": {},
   "outputs": [],
   "source": [
    "# Calculate of every cluster center to each word in the vocabulary list\n",
    "import sklearn\n",
    "results = []\n",
    "for center in cluster_centers:\n",
    "    results.append(sklearn.metrics.pairwise.cosine_similarity(center.reshape(1,-1) ,word_embeddings))\n",
    "results = np.array(results).squeeze(axis=1)"
   ]
  },
  {
   "cell_type": "code",
   "execution_count": 23,
   "metadata": {},
   "outputs": [
    {
     "name": "stdout",
     "output_type": "stream",
     "text": [
      "something\n",
      "something\n",
      "kind\n",
      "government\n",
      "something\n"
     ]
    }
   ],
   "source": [
    "for idx in results.argmax(1):\n",
    "    print(words[idx])"
   ]
  },
  {
   "cell_type": "code",
   "execution_count": 30,
   "metadata": {},
   "outputs": [
    {
     "name": "stdout",
     "output_type": "stream",
     "text": [
      "something\n",
      "series\n",
      "thing\n",
      "game\n",
      "things\n",
      "\n",
      "something\n",
      "thing\n",
      "technology\n",
      "kind\n",
      "things\n",
      "\n",
      "kind\n",
      "something\n",
      "thing\n",
      "things\n",
      "indeed\n",
      "\n",
      "government\n",
      "business\n",
      "team\n",
      "itself\n",
      "indeed\n",
      "\n",
      "something\n",
      "kind\n",
      "business\n",
      "things\n",
      "either\n",
      "\n"
     ]
    }
   ],
   "source": [
    "import numpy as np\n",
    "most_similar_words = np.array([res[::-1] for res in np.argsort(results,axis=1)])[:,:5]\n",
    "\n",
    "for sim_words in most_similar_words:\n",
    "    for idx in sim_words:\n",
    "        print(words[idx])\n",
    "    print()"
   ]
  },
  {
   "cell_type": "code",
   "execution_count": 26,
   "metadata": {},
   "outputs": [
    {
     "data": {
      "text/plain": [
       "'expensivesharesso'"
      ]
     },
     "execution_count": 26,
     "metadata": {},
     "output_type": "execute_result"
    }
   ],
   "source": [
    "words[9266]"
   ]
  },
  {
   "cell_type": "code",
   "execution_count": 24,
   "metadata": {},
   "outputs": [
    {
     "data": {
      "text/plain": [
       "(17, 1787)"
      ]
     },
     "execution_count": 24,
     "metadata": {},
     "output_type": "execute_result"
    }
   ],
   "source": [
    "np.array(results).reshape(len(results),len(results[0])).shape"
   ]
  },
  {
   "cell_type": "code",
   "execution_count": 26,
   "metadata": {},
   "outputs": [
    {
     "data": {
      "text/plain": [
       "<Figure size 432x288 with 0 Axes>"
      ]
     },
     "execution_count": 26,
     "metadata": {},
     "output_type": "execute_result"
    },
    {
     "data": {
      "text/plain": [
       "<matplotlib.image.AxesImage at 0xdcf7b877b8>"
      ]
     },
     "execution_count": 26,
     "metadata": {},
     "output_type": "execute_result"
    },
    {
     "data": {
      "text/plain": [
       "(-0.5, 399.5, 199.5, -0.5)"
      ]
     },
     "execution_count": 26,
     "metadata": {},
     "output_type": "execute_result"
    },
    {
     "data": {
      "image/png": "[encoded data removed]",
      "text/plain": [
       "<Figure size 432x288 with 1 Axes>"
      ]
     },
     "metadata": {},
     "output_type": "display_data"
    }
   ],
   "source": [
    "import sklearn\n",
    "from sklearn.metrics.pairwise import cosine_similarity\n",
    "import numpy as np\n",
    "import pandas as pd\n",
    "from matplotlib import pyplot as plt\n",
    "\n",
    "# Choose topic number and number of words should be used for the word cloud \n",
    "topic_number= 7\n",
    "words_topic=100\n",
    "res_topic=[]\n",
    "for res in results[topic_number]:\n",
    "    res_topic.append(res[0][0])\n",
    "\n",
    "d ={'word': words, 'cosine_sim': res_topic}\n",
    "topic_df = pd.DataFrame(data=d)\n",
    "\n",
    "topic_sorted = topic_df.sort_values(by=['cosine_sim'],ascending=False)\n",
    "\n",
    "from wordcloud import WordCloud, STOPWORDS, ImageColorGenerator\n",
    "text = topic_sorted['word'][0:words_topic].tolist()\n",
    "text = ', '.join(text)\n",
    "wordcloud = WordCloud(max_font_size=50, max_words=100, background_color=\"white\").generate(text)\n",
    "plt.figure()\n",
    "plt.imshow(wordcloud, interpolation=\"bilinear\")\n",
    "plt.axis(\"off\")\n",
    "plt.show()"
   ]
  },
  {
   "cell_type": "markdown",
   "metadata": {},
   "source": [
    "# # Testing\n"
   ]
  },
  {
   "cell_type": "code",
   "execution_count": 18,
   "metadata": {},
   "outputs": [],
   "source": [
    "# multiple output lines \n",
    "from IPython.core.interactiveshell import InteractiveShell\n",
    "InteractiveShell.ast_node_interactivity = \"all\"\n"
   ]
  },
  {
   "cell_type": "code",
   "execution_count": 160,
   "metadata": {},
   "outputs": [
    {
     "data": {
      "text/plain": [
       "array([[0.45156825]])"
      ]
     },
     "execution_count": 160,
     "metadata": {},
     "output_type": "execute_result"
    }
   ],
   "source": [
    "import sklearn\n",
    "from sklearn.metrics.pairwise import cosine_similarity\n",
    "from scipy.spatial import distance\n",
    "index=0\n",
    "#distance.euclidean(word_embeddings[index],cluster_centers[15])\n",
    "#cosine_similarity(word_embeddings[index],cluster_centers[15])\n",
    "word_array = np.array(word_embeddings[index])\n",
    "sklearn.metrics.pairwise.cosine_similarity(word_array.reshape(1,-1),cluster_centers[15].reshape(1,-1))\n",
    "#scipy.spatial.distance.euclidean(word_embeddings[10],cluster_centers[15])\n",
    "#test_distances=[score for score in word_embeddings distance.euclidean(cluster_centers[0],word_embeddings)]"
   ]
  },
  {
   "cell_type": "code",
   "execution_count": 178,
   "metadata": {},
   "outputs": [],
   "source": [
    "\n"
   ]
  },
  {
   "cell_type": "code",
   "execution_count": 203,
   "metadata": {},
   "outputs": [],
   "source": [
    "res_0=[]\n",
    "for res in results[0]:\n",
    "    res_0.append(res[0][0])"
   ]
  },
  {
   "cell_type": "code",
   "execution_count": 213,
   "metadata": {},
   "outputs": [],
   "source": [
    "import pandas as pd\n",
    "d ={'word': words, 'cosine_sim': res_0}\n",
    "topic_0 = pd.DataFrame(data=d)"
   ]
  },
  {
   "cell_type": "code",
   "execution_count": 220,
   "metadata": {},
   "outputs": [],
   "source": [
    "topic_0_sorted = topic_0.sort_values(by=['cosine_sim'],ascending=False)"
   ]
  },
  {
   "cell_type": "code",
   "execution_count": 243,
   "metadata": {},
   "outputs": [
    {
     "data": {
      "image/png": "[encoded data removed]",
      "text/plain": [
       "<Figure size 432x288 with 1 Axes>"
      ]
     },
     "metadata": {},
     "output_type": "display_data"
    }
   ],
   "source": [
    "from wordcloud import WordCloud, STOPWORDS, ImageColorGenerator\n",
    "text = topic_0_sorted['word'][0:20].tolist()\n",
    "text = ', '.join(text)\n",
    "wordcloud = WordCloud(max_font_size=50, max_words=100, background_color=\"white\").generate(text)\n",
    "plt.figure()\n",
    "plt.imshow(wordcloud, interpolation=\"bilinear\")\n",
    "plt.axis(\"off\")\n",
    "plt.show()"
   ]
  },
  {
   "cell_type": "code",
   "execution_count": 241,
   "metadata": {},
   "outputs": [
    {
     "data": {
      "text/plain": [
       "'work'"
      ]
     },
     "execution_count": 241,
     "metadata": {},
     "output_type": "execute_result"
    }
   ],
   "source": [
    "text = topic_0_sorted['word'][0:20]\n",
    "text.tolist()[0]"
   ]
  },
  {
   "cell_type": "code",
   "execution_count": 99,
   "metadata": {},
   "outputs": [
    {
     "data": {
      "text/plain": [
       "1.3556098478181269"
      ]
     },
     "execution_count": 99,
     "metadata": {},
     "output_type": "execute_result"
    }
   ],
   "source": [
    "from scipy.spatial import distance\n",
    "distance.euclidean(word_embeddings[4], cluster_centers[0])"
   ]
  }
 ],
 "metadata": {
  "kernelspec": {
   "display_name": "Python 3",
   "language": "python",
   "name": "python3"
  },
  "language_info": {
   "codemirror_mode": {
    "name": "ipython",
    "version": 3
   },
   "file_extension": ".py",
   "mimetype": "text/x-python",
   "name": "python",
   "nbconvert_exporter": "python",
   "pygments_lexer": "ipython3",
   "version": "3.6.4"
  }
 },
 "nbformat": 4,
 "nbformat_minor": 2
}
