{
 "cells": [
  {
   "cell_type": "code",
   "execution_count": 35,
   "metadata": {},
   "outputs": [
    {
     "name": "stdout",
     "output_type": "stream",
     "text": [
      "E:\\pvtm\\data\\imdb\\input.txt\n",
      "0.01 0.25\n",
      "1787 words in the vocabulary\n"
     ]
    }
   ],
   "source": [
    "import os\n",
    "input_dir_raw = 'data/imdb/'\n",
    "input_file = os.path.join(os.path.abspath(input_dir_raw), 'input.txt')\n",
    "print(input_file)\n",
    "with open(input_file, 'r', encoding='utf-8') as file:\n",
    "    \n",
    "    _input = file.readlines()\n",
    "    \n",
    "    \n",
    "len(_input)\n",
    "\n",
    "import flair\n",
    "from dlutils import dlutils\n",
    "\n",
    "_input = [dlutils.preprocess_document(x) for x in _input]\n",
    "_input, vocab = dlutils.popularity_based_prefiltering(_input, min_df =0.01, max_df = 0.25, stopwords = dlutils.easy_stopwords())\n",
    "n_topics = int(len(vocab)/ 100)"
   ]
  },
  {
   "cell_type": "code",
   "execution_count": 36,
   "metadata": {},
   "outputs": [],
   "source": [
    "from flair.embeddings import WordEmbeddings, BertEmbeddings,  FlairEmbeddings, DocumentPoolEmbeddings, Sentence, DocumentRNNEmbeddings\n",
    "\n",
    "\n",
    "# init embedding\n",
    "de_embedding = WordEmbeddings('en')\n",
    "# bert_embedding = BertEmbeddings('bert-base-multilingual-cased')\n",
    "\n",
    "# initialize the word embeddings\n",
    "# glove_embedding = WordEmbeddings('glove')\n",
    "# german_forward = FlairEmbeddings('german-forward')\n",
    "# german_backward = FlairEmbeddings('german-backward')\n",
    "\n",
    "# initialize the document embeddings, mode = mean\n",
    "document_embeddings = DocumentPoolEmbeddings([de_embedding])"
   ]
  },
  {
   "cell_type": "code",
   "execution_count": 37,
   "metadata": {},
   "outputs": [],
   "source": [
    "embeddings=[]\n",
    "for text in _input:\n",
    "    sentence = Sentence(text)\n",
    "    document_embeddings.embed(sentence)\n",
    "    embeddings.append(sentence.get_embedding().tolist())"
   ]
  },
  {
   "cell_type": "code",
   "execution_count": 85,
   "metadata": {},
   "outputs": [],
   "source": [
    "from sklearn.mixture import GaussianMixture\n",
    "# n_topics = 5\n",
    "gmm = GaussianMixture(n_components=n_topics)\n",
    "\n",
    "gmm.fit(embeddings[:500])\n",
    "topic_assignment = gmm.predict(embeddings)\n",
    "\n",
    "indices = np.where(topic_assignment==1)[0]\n",
    "center = np.array(embeddings)[indices].mean(axis=0)"
   ]
  },
  {
   "cell_type": "code",
   "execution_count": null,
   "metadata": {},
   "outputs": [],
   "source": []
  },
  {
   "cell_type": "code",
   "execution_count": null,
   "metadata": {},
   "outputs": [],
   "source": []
  },
  {
   "cell_type": "code",
   "execution_count": null,
   "metadata": {},
   "outputs": [],
   "source": []
  }
 ],
 "metadata": {
  "kernelspec": {
   "display_name": "py36",
   "language": "python",
   "name": "py36"
  },
  "language_info": {
   "codemirror_mode": {
    "name": "ipython",
    "version": 3
   },
   "file_extension": ".py",
   "mimetype": "text/x-python",
   "name": "python",
   "nbconvert_exporter": "python",
   "pygments_lexer": "ipython3",
   "version": "3.6.6"
  }
 },
 "nbformat": 4,
 "nbformat_minor": 2
}
