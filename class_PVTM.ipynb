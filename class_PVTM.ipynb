{
 "cells": [
  {
   "cell_type": "markdown",
   "metadata": {},
   "source": [
    "## Load all required packages"
   ]
  },
  {
   "cell_type": "code",
   "execution_count": 1,
   "metadata": {},
   "outputs": [],
   "source": [
    "from IPython.core.interactiveshell import InteractiveShell\n",
    "InteractiveShell.ast_node_interactivity = \"all\"\n",
    "import numpy as np \n",
    "from sklearn import mixture\n",
    "import gensim\n",
    "from cleantext import clean\n",
    "import nltk\n",
    "from nltk.corpus import stopwords \n",
    "from nltk.tokenize import word_tokenize \n",
    "import nltk.tokenize \n",
    "import matplotlib.pyplot as plt\n",
    "from wordcloud import WordCloud, STOPWORDS, ImageColorGenerator\n",
    "from sklearn.metrics.pairwise import cosine_similarity\n",
    "# from dlutils import dlutils\n",
    "import inspect\n",
    "import string\n",
    "import pandas as pd\n",
    "from sklearn.feature_extraction.text import TfidfVectorizer\n",
    "import os\n",
    "import inspect\n"
   ]
  },
  {
   "cell_type": "markdown",
   "metadata": {},
   "source": [
    "## Load data"
   ]
  },
  {
   "cell_type": "code",
   "execution_count": 2,
   "metadata": {},
   "outputs": [],
   "source": [
    "\n",
    "# input_dir_raw = 'data/heise'\n",
    "# input_file = os.path.join(os.path.abspath(input_dir_raw), 'heise.txt')\n",
    "# print(input_file)\n",
    "# with open(input_file, 'r', encoding='utf-8') as file:\n",
    "#     input_ = file.readlines()\n",
    "    \n",
    "df = pd.read_csv('data/sample_5000.csv', nrows=1500)"
   ]
  },
  {
   "cell_type": "code",
   "execution_count": null,
   "metadata": {},
   "outputs": [],
   "source": []
  },
  {
   "cell_type": "markdown",
   "metadata": {},
   "source": [
    "### TODO:\n",
    "    \n",
    "- integrate cluster center computation into fit method - **done**\n",
    "- add attributes to pvtm class\n",
    "    - self.document_vectors - contains the transformed document vectors - np.array - **done**\n",
    "    - self.document_topics - contains the topic distribution per document - np.array **done**\n",
    "    - self.n_iter_d2v - number of iterations for the doc2vec algorithm **deprecated**\n",
    "- add methods to pvtm class\n",
    "    - transform(string) - transform a given string to vector using a pretrained model **done**\n",
    "    - get_topics(string) - predict topic distribution for a given string (i.e. document) **done**\n",
    "- replace dlutils functions with pvtm methods (i.e. add the relevant functions from dlutils into pvtm) **done**\n",
    "\n",
    "\n",
    "----------------------------------------\n",
    "\n",
    "-- ccheck https://www.youtube.com/watch?v=77qj9o9pmek\n",
    "- modulize code (i.e. from .ipynb to .py)\n",
    "- generate nice repo structure\n",
    "- create setup.py file and requirements.txt\n",
    "- generate example in example folder\n",
    "- Add documentation\n",
    "    - pvtm.readthedocs.io\n",
    "- Push to PyPi"
   ]
  },
  {
   "cell_type": "code",
   "execution_count": 3,
   "metadata": {},
   "outputs": [],
   "source": [
    "from IPython.core.interactiveshell import InteractiveShell\n",
    "InteractiveShell.ast_node_interactivity = \"all\"\n",
    "import numpy as np \n",
    "from sklearn import mixture\n",
    "import gensim\n",
    "from cleantext import clean\n",
    "import nltk\n",
    "from nltk.corpus import stopwords \n",
    "from nltk.tokenize import word_tokenize \n",
    "import matplotlib.pyplot as plt\n",
    "from wordcloud import WordCloud, STOPWORDS, ImageColorGenerator\n",
    "from sklearn.metrics.pairwise import cosine_similarity\n",
    "# from dlutils import dlutils\n",
    "import inspect\n",
    "import string\n",
    "import pandas as pd\n",
    "from sklearn.feature_extraction.text import TfidfVectorizer\n",
    "import os\n",
    "import inspect\n",
    "\n",
    "\n",
    "# from gensim.models.doc2vec import TaggedDocument, Doc2Vec\n",
    "class Documents(object):\n",
    "    \"\"\"\n",
    "    \"\"\"\n",
    "    \n",
    "    def __init__(self, documents):\n",
    "        self.documents = documents\n",
    "        self.len = len(documents)\n",
    "\n",
    "    def __iter__(self):\n",
    "        for i, doc in enumerate(self.documents):\n",
    "            yield gensim.models.doc2vec.TaggedDocument(words=doc, tags=[i])\n",
    "\n",
    "\n",
    "\n",
    "\n",
    "class PVTM(Documents):\n",
    "    \n",
    "    def __init__(self, texts, preprocess=True, **kwargs):        \n",
    "        if preprocess==True:\n",
    "            texts = self.preprocess(texts, **kwargs)\n",
    "        x = [kk.split() for kk in texts]\n",
    "        self.documents = texts\n",
    "        self.x_docs = Documents(x)\n",
    "        \n",
    "    def get_allowed_vocab(self,data, min_df=0.05, max_df=0.95):\n",
    "        \"\"\"\n",
    "        Takes a list of strings.\n",
    "        Result is a vocabulary based on the corpora from the input dataset.\n",
    "        Pre-filtering is done using sklearns tfidfVectorizer with settings for min_df and max_df.\n",
    "        \"\"\"\n",
    "        print(min_df, max_df)\n",
    "        vec = TfidfVectorizer(min_df=min_df, max_df=max_df)\n",
    "\n",
    "        # fit on dataset\n",
    "        vec.fit(data)\n",
    "        # get vocabulary\n",
    "        vocabulary = set(vec.vocabulary_.keys())\n",
    "        print(len(vocabulary), 'words in the vocabulary')\n",
    "        return vocabulary\n",
    "    \n",
    "    def popularity_based_prefiltering(self,data, min_df=0.05, max_df=0.95, stopwords=None):\n",
    "        \"\"\"popularity based pre-filtering. Ignore rare and common words. \n",
    "        Takes a list of strings as input. stopwords is a list of words if provided.\"\"\"\n",
    "        vocabulary = self.get_allowed_vocab(data, min_df=min_df, max_df=max_df)\n",
    "        vocabulary = frozenset(vocabulary)\n",
    "        if stopwords:\n",
    "            stopwords = frozenset(stopwords)\n",
    "        pp = []\n",
    "        for i, line in enumerate(data):\n",
    "            rare_removed = list(filter(lambda word: word.lower() in vocabulary, line.split()))\n",
    "            if stopwords:\n",
    "                stops_removed = list(filter(lambda word: word.lower() not in stopwords, rare_removed))\n",
    "                pp.append(\" \".join(stops_removed))\n",
    "            else:\n",
    "                pp.append(\" \".join(rare_removed))\n",
    "        return pp, vocabulary\n",
    "\n",
    "    def preprocess(self, texts, **kwargs):        \n",
    "        '''\n",
    "        The finction takes a list of texts and removes stopwords as well as very frequent and very unfrequent words.\n",
    "        The function also uses clean() function from clean-text to lowercase, \n",
    "        to remove special characters, number, currency symbols etc. \n",
    "        '''\n",
    "        translator=str.maketrans('','', string.punctuation) # check was der genau macht\n",
    "        texts = [text.translate(translator) for text in texts]\n",
    "        \n",
    "        texts = [clean(x, **{key: value for key, value in kwargs.items() \n",
    "                                              if key in inspect.getfullargspec(clean).args}) for x in texts]\n",
    "        \n",
    "        cleaned_text, self.vocab = self.popularity_based_prefiltering(texts,**{key: value for key, value in kwargs.items() \n",
    "                                              if key in inspect.getfullargspec(self.popularity_based_prefiltering).args}) \n",
    "        return cleaned_text\n",
    "        \n",
    "    \n",
    "        \n",
    "    def fit(self, n_range=10, alpha_value_steps = 0.002, **kwargs):\n",
    "        \"\"\"\n",
    "        \"\"\"\n",
    "        self.model = gensim.models.Doc2Vec(**{key: value for key, value in kwargs.items() \n",
    "                                              if key in inspect.getfullargspec(gensim.models.Doc2Vec).args})\n",
    "        # generate doc2vec model vocab\n",
    "        print('Building vocab')\n",
    "        self.model.build_vocab(self.x_docs)\n",
    "        self.model.n_range = n_range\n",
    "        doc_counts = len(self.documents)\n",
    "        for epoch in range(n_range):\n",
    "            print(\"epoch \" + str(epoch))\n",
    "            self.model.train(self.x_docs, total_examples=doc_counts, epochs=1)\n",
    "            #     model.save(MODEL_SAVE_NAME)\n",
    "            self.model.alpha -= alpha_value_steps\n",
    "            \n",
    "            \n",
    "        self.gmm= mixture.GaussianMixture(**{key: value for key, value in kwargs.items() \n",
    "                                             if key in inspect.getfullargspec(mixture.GaussianMixture).args})\n",
    "        \n",
    "        \n",
    "        print('GMM Clustering')\n",
    "\n",
    "        self.doc_vectors=np.array(self.model.docvecs.vectors_docs)\n",
    "\n",
    "        self.gmm.fit(self.doc_vectors)\n",
    "        self.BIC = self.gmm.bic(self.doc_vectors)\n",
    "        print('BIC: {}'.format(self.BIC))\n",
    "        print('Cluster Center Computation')\n",
    "        self.cluster_center(np.array(self.model.docvecs.vectors_docs), self.gmm)\n",
    "        self.document_vectors = np.array(self.model.docvecs.vectors_docs)\n",
    "        self.document_topics = np.array(self.gmm.predict_proba(self.document_vectors))\n",
    "        \n",
    "        \n",
    "    def cluster_center(self, vectors, gmm):\n",
    "        \"\"\"\n",
    "        Approximates cluster centers for a given clustering from a GMM.\n",
    "        First method only takes the topic with the highest probability per document into account.\n",
    "        Averaging the document vectors per topic cluster provides the cluster center for the topic.\n",
    "        Second method  approximates cluster centers for a given clustering \n",
    "        from a GMM with weighted single vectors from a certain topic.\n",
    "        Returns two lists of the cluster centers.\n",
    "        \"\"\"\n",
    "        self.clustercenter = []\n",
    "        assignments = gmm.predict(vectors)\n",
    "        n_components = np.unique(assignments).shape[0]\n",
    "        for i in range(n_components):\n",
    "            gmm_centerindexe = np.where(assignments==i, True, False)        \n",
    "            self.clustercenter.append(vectors[gmm_centerindexe].mean(0))\n",
    "        \n",
    "        self.clustercenter_probas = []\n",
    "        print('vectors', vectors.shape)\n",
    "        assignments_proba = gmm.predict_proba(vectors)\n",
    "        n_components = assignments_proba.shape[1] \n",
    "        for i in range(n_components):\n",
    "            center = []\n",
    "            for j in range(len(vectors)):\n",
    "                center_j = vectors[j]*assignments_proba[j,i]\n",
    "                center.append(center_j)\n",
    "            self.clustercenter_probas.append(np.mean(center,axis=0))\n",
    "            \n",
    "    def get_string_vector(self, strings, steps = 0 ):\n",
    "        '''\n",
    "        The function takes a string (document) and\n",
    "        transforms it to vector using a trained model.\n",
    "        '''\n",
    "        #string = word_tokenize(string.lower())\n",
    "        return [self.model.infer_vector(word_tokenize(string.lower()), steps=self.model.n_range+steps) \n",
    "                for string in strings]\n",
    "        \n",
    "    def get_topic_weights(self, vector):\n",
    "        '''\n",
    "        The function takes a document vector \n",
    "        and returns a distribution of a given document over all topics.\n",
    "        '''\n",
    "\n",
    "        return self.gmm.predict_proba(vector)\n",
    "        \n",
    "    def create_wordcloud(self,topic,n_words=100, use_probas=True): \n",
    "        \"\"\"\n",
    "        The function takes a number of a topic and represents \n",
    "        most common word (default=100) in a wordcloud.\n",
    "        \"\"\"\n",
    "        if use_probas==True:\n",
    "            center_probas = self.clustercenter_probas\n",
    "        else:\n",
    "            center_probas= self.clustercenter\n",
    "        sims = cosine_similarity([center_probas[topic]], self.model.wv.vectors)\n",
    "        sims = np.argsort(sims)[0][::-1]\n",
    "        text = [self.model.wv.index2word[k] for k in sims[:n_words]]\n",
    "        text = ', '.join(text)\n",
    "        wordcloud = WordCloud(max_font_size=50, max_words=n_words, background_color=\"white\").generate(text)\n",
    "        plt.figure(figsize=(8, 6))\n",
    "        plt.imshow(wordcloud, interpolation=\"bilinear\")\n",
    "        plt.axis(\"off\")\n",
    "    def get_top_words(self,topic, n_words=100, use_probas=True):\n",
    "        \"\"\"\n",
    "        The function takes a number of a topic and returns \n",
    "        most common words (default=100) in a list.\n",
    "        \"\"\"\n",
    "        if use_probas==True:\n",
    "            center_probas = self.clustercenter_probas\n",
    "        else:\n",
    "            center_probas= self.clustercenter\n",
    "        sims = cosine_similarity([center_probas[topic]], self.model.wv.vectors)\n",
    "        sims = np.argsort(sims)[0][::-1]\n",
    "        words = [self.model.wv.index2word[k] for k in sims[:n_words]]\n",
    "        return words\n",
    "        \n",
    "        \n",
    "        "
   ]
  },
  {
   "cell_type": "markdown",
   "metadata": {},
   "source": [
    "https://stackoverflow.com/questions/23430248/separating-kwargs-for-different-functions"
   ]
  },
  {
   "cell_type": "markdown",
   "metadata": {},
   "source": [
    "## Create PVTM object"
   ]
  },
  {
   "cell_type": "code",
   "execution_count": 4,
   "metadata": {},
   "outputs": [
    {
     "name": "stdout",
     "output_type": "stream",
     "text": [
      "0.05 0.5\n",
      "1140 words in the vocabulary\n"
     ]
    }
   ],
   "source": [
    "example_len = 150\n",
    "stop_words = set(nltk.corpus.stopwords.words('english') + ['reuter', '\\x03'])\n",
    "\n",
    "input_=df.text.values\n",
    "pvtm = PVTM(input_[:example_len], preprocess=True, min_df = 0.05, max_df = 0.5)\n"
   ]
  },
  {
   "cell_type": "code",
   "execution_count": 5,
   "metadata": {},
   "outputs": [
    {
     "name": "stdout",
     "output_type": "stream",
     "text": [
      "Building vocab\n",
      "epoch 0\n",
      "epoch 1\n",
      "epoch 2\n",
      "epoch 3\n",
      "epoch 4\n",
      "epoch 5\n",
      "epoch 6\n",
      "epoch 7\n",
      "epoch 8\n",
      "epoch 9\n",
      "GMM Clustering\n",
      "Initialization 0\n",
      "Initialization converged: True\n",
      "BIC: 132462.54665270957\n",
      "Cluster Center Computation\n",
      "vectors (150, 100)\n"
     ]
    }
   ],
   "source": [
    "n_topics=10\n",
    "\n",
    "pvtm.fit(vector_size=100,dbow_words=1,dm=0,epochs=1,window=5,seed=123,min_count=5,workers=6,alpha=0.025, min_alpha=0.025,\n",
    "        n_components= n_topics, covariance_type='full', verbose=1, n_init=1, max_iter=200)"
   ]
  },
  {
   "cell_type": "code",
   "execution_count": 6,
   "metadata": {},
   "outputs": [
    {
     "data": {
      "text/plain": [
       "(150, 10)"
      ]
     },
     "execution_count": 6,
     "metadata": {},
     "output_type": "execute_result"
    }
   ],
   "source": [
    "pvtm.document_topics.shape # number of rows = number of documents; number of columns = number of topics  "
   ]
  },
  {
   "cell_type": "code",
   "execution_count": 7,
   "metadata": {},
   "outputs": [],
   "source": [
    "# [pvtm.create_wordcloud(i) for i in range(10)]"
   ]
  },
  {
   "cell_type": "markdown",
   "metadata": {},
   "source": [
    "## Example text, comparison of GMM and LDA results"
   ]
  },
  {
   "cell_type": "code",
   "execution_count": 8,
   "metadata": {},
   "outputs": [
    {
     "data": {
      "text/plain": [
       "['drive', 'failure', 'hard', '12', 'models']"
      ]
     },
     "execution_count": 8,
     "metadata": {},
     "output_type": "execute_result"
    }
   ],
   "source": [
    "# function get_top_words extract most common words of a given topics, default: 100 words\n",
    "pvtm.get_top_words(5)[:5]"
   ]
  },
  {
   "cell_type": "code",
   "execution_count": 9,
   "metadata": {},
   "outputs": [],
   "source": [
    "# Create example document containing top 10 words of each cluster\n",
    "example_doc = [pvtm.get_top_words(x)[:10] for x in range(pvtm.model.n_range)]"
   ]
  },
  {
   "cell_type": "code",
   "execution_count": 10,
   "metadata": {},
   "outputs": [],
   "source": [
    "example_doc = [item for sublist in example_doc for item in sublist]\n",
    "example_doc= ' '.join(example_doc)"
   ]
  },
  {
   "cell_type": "code",
   "execution_count": 13,
   "metadata": {},
   "outputs": [],
   "source": [
    "new_vector= pvtm.get_string_vector([example_doc], steps=5)"
   ]
  },
  {
   "cell_type": "code",
   "execution_count": 68,
   "metadata": {},
   "outputs": [],
   "source": [
    "# predict_proba\n",
    "# Parameters: X : array-like, shape = [n_samples, n_features]"
   ]
  },
  {
   "cell_type": "code",
   "execution_count": 15,
   "metadata": {},
   "outputs": [
    {
     "data": {
      "text/plain": [
       "array([[ 1.,  0.,  0.,  0.,  0.,  0.,  0.,  0.,  0.,  0.]])"
      ]
     },
     "execution_count": 15,
     "metadata": {},
     "output_type": "execute_result"
    }
   ],
   "source": [
    "pvtm.get_topic_weights(new_vector[0].reshape(1,-1))"
   ]
  },
  {
   "cell_type": "markdown",
   "metadata": {},
   "source": [
    "## LDA"
   ]
  },
  {
   "cell_type": "code",
   "execution_count": 22,
   "metadata": {},
   "outputs": [],
   "source": [
    "\n",
    "list_of_list_of_tokens =[word_tokenize(text.lower()) for text in input_[:example_len]]"
   ]
  },
  {
   "cell_type": "code",
   "execution_count": 25,
   "metadata": {},
   "outputs": [
    {
     "data": {
      "text/plain": [
       "['ebay',\n",
       " 'launches',\n",
       " 'visual',\n",
       " 'search',\n",
       " 'tools',\n",
       " 'that',\n",
       " 'let',\n",
       " 'you',\n",
       " 'shop',\n",
       " 'using',\n",
       " 'photos',\n",
       " 'from',\n",
       " 'your',\n",
       " 'phone',\n",
       " 'or',\n",
       " 'web0ebay',\n",
       " 'today',\n",
       " 'is',\n",
       " 'launching',\n",
       " 'two',\n",
       " 'new',\n",
       " 'visual',\n",
       " 'search',\n",
       " 'tools',\n",
       " 'that',\n",
       " 'will',\n",
       " 'allow',\n",
       " 'online',\n",
       " 'shoppers',\n",
       " 'to',\n",
       " 'use',\n",
       " 'photos',\n",
       " 'they',\n",
       " 'snap',\n",
       " ',',\n",
       " 'have',\n",
       " 'saved',\n",
       " 'on',\n",
       " 'their',\n",
       " 'phone',\n",
       " ',',\n",
       " 'or',\n",
       " 'even',\n",
       " 'those',\n",
       " 'they',\n",
       " 'find',\n",
       " 'while',\n",
       " 'browsing',\n",
       " 'the',\n",
       " 'web',\n",
       " 'or',\n",
       " 'other',\n",
       " 'social',\n",
       " 'networking',\n",
       " 'sites',\n",
       " ',',\n",
       " 'in',\n",
       " 'order',\n",
       " 'to',\n",
       " 'find',\n",
       " 'matching',\n",
       " 'products',\n",
       " 'from',\n",
       " 'ebay',\n",
       " '’',\n",
       " 's',\n",
       " 'catalog',\n",
       " '.',\n",
       " 'the',\n",
       " 'tools',\n",
       " ',',\n",
       " 'image',\n",
       " 'search',\n",
       " 'and',\n",
       " 'find',\n",
       " 'it',\n",
       " 'on',\n",
       " 'ebay',\n",
       " ',',\n",
       " 'leverage',\n",
       " 'advancements',\n",
       " 'in',\n",
       " 'computer',\n",
       " 'vision',\n",
       " 'and',\n",
       " 'deep',\n",
       " 'learning',\n",
       " ',',\n",
       " 'including',\n",
       " 'the',\n",
       " 'use',\n",
       " 'of',\n",
       " 'neural',\n",
       " 'networks',\n",
       " ',',\n",
       " 'the',\n",
       " 'company',\n",
       " 'notes.the',\n",
       " 'first',\n",
       " 'tool',\n",
       " ',',\n",
       " 'image',\n",
       " 'search',\n",
       " ',',\n",
       " 'allows',\n",
       " 'mobile',\n",
       " 'consumers',\n",
       " 'to',\n",
       " 'take',\n",
       " 'a',\n",
       " 'photo',\n",
       " 'of',\n",
       " 'something',\n",
       " 'they',\n",
       " 'want',\n",
       " 'to',\n",
       " 'buy',\n",
       " 'or',\n",
       " 'use',\n",
       " 'an',\n",
       " 'image',\n",
       " 'saved',\n",
       " 'to',\n",
       " 'their',\n",
       " 'phone',\n",
       " '’',\n",
       " 's',\n",
       " 'camera',\n",
       " 'roll',\n",
       " 'in',\n",
       " 'order',\n",
       " 'to',\n",
       " 'shop',\n",
       " 'ebay',\n",
       " '.',\n",
       " 'the',\n",
       " 'website',\n",
       " 'will',\n",
       " 'then',\n",
       " 'return',\n",
       " 'listings',\n",
       " 'of',\n",
       " 'items',\n",
       " 'that',\n",
       " 'are',\n",
       " 'either',\n",
       " 'a',\n",
       " 'close',\n",
       " 'match',\n",
       " 'or',\n",
       " 'at',\n",
       " 'least',\n",
       " 'visually',\n",
       " 'similar',\n",
       " 'to',\n",
       " 'the',\n",
       " 'product',\n",
       " 'you',\n",
       " '’',\n",
       " 've',\n",
       " 'photographed.while',\n",
       " 'other',\n",
       " 'sites',\n",
       " ',',\n",
       " 'including',\n",
       " 'amazon',\n",
       " ',',\n",
       " 'pinterest',\n",
       " ',',\n",
       " 'retailers',\n",
       " 'like',\n",
       " 'wayfair',\n",
       " ',',\n",
       " 'and',\n",
       " 'even',\n",
       " 'google',\n",
       " ',',\n",
       " 'also',\n",
       " 'have',\n",
       " 'visual',\n",
       " 'search',\n",
       " 'capabilities',\n",
       " 'today',\n",
       " ',',\n",
       " 'ebay',\n",
       " 'touted',\n",
       " 'that',\n",
       " 'the',\n",
       " 'size',\n",
       " 'of',\n",
       " 'its',\n",
       " 'catalog',\n",
       " '–',\n",
       " 'over',\n",
       " '1.1',\n",
       " 'billion',\n",
       " 'items',\n",
       " '–',\n",
       " 'and',\n",
       " 'the',\n",
       " 'age',\n",
       " 'of',\n",
       " 'its',\n",
       " 'service',\n",
       " 'could',\n",
       " 'give',\n",
       " 'it',\n",
       " 'an',\n",
       " 'advantage',\n",
       " 'in',\n",
       " 'this',\n",
       " 'space',\n",
       " '.',\n",
       " '(',\n",
       " 'pinterest',\n",
       " ',',\n",
       " 'however',\n",
       " ',',\n",
       " 'said',\n",
       " 'earlier',\n",
       " 'this',\n",
       " 'year',\n",
       " 'its',\n",
       " 'image',\n",
       " 'database',\n",
       " 'includes',\n",
       " '100',\n",
       " 'billion',\n",
       " '“',\n",
       " 'ideas',\n",
       " ',',\n",
       " '”',\n",
       " 'but',\n",
       " 'its',\n",
       " 'site',\n",
       " 'isn',\n",
       " '’',\n",
       " 't',\n",
       " 'solely',\n",
       " 'focused',\n",
       " 'on',\n",
       " 'products',\n",
       " 'that',\n",
       " 'can',\n",
       " 'be',\n",
       " 'shopped',\n",
       " ',',\n",
       " 'as',\n",
       " 'on',\n",
       " 'ebay',\n",
       " '.',\n",
       " ')',\n",
       " '“',\n",
       " 'ebay',\n",
       " 'is',\n",
       " 'at',\n",
       " 'a',\n",
       " 'technological',\n",
       " 'advantage',\n",
       " 'due',\n",
       " 'to',\n",
       " 'the',\n",
       " 'rich',\n",
       " 'set',\n",
       " 'of',\n",
       " 'user-generated',\n",
       " 'images',\n",
       " 'and',\n",
       " 'item',\n",
       " 'data',\n",
       " 'we',\n",
       " '’',\n",
       " 've',\n",
       " 'accumulated',\n",
       " 'through',\n",
       " 'the',\n",
       " 'years',\n",
       " ',',\n",
       " '”',\n",
       " 'mohan',\n",
       " 'patt',\n",
       " ',',\n",
       " 'vp',\n",
       " 'of',\n",
       " 'ebay',\n",
       " '’',\n",
       " 's',\n",
       " 'buyer',\n",
       " 'experience',\n",
       " ',',\n",
       " 'said',\n",
       " 'in',\n",
       " 'july',\n",
       " '.',\n",
       " '“',\n",
       " 'by',\n",
       " 'applying',\n",
       " 'machine',\n",
       " 'learning',\n",
       " 'technology',\n",
       " ',',\n",
       " 'ebay',\n",
       " 'can',\n",
       " 'deliver',\n",
       " 'a',\n",
       " 'fast',\n",
       " 'and',\n",
       " 'reliable',\n",
       " 'shopping',\n",
       " 'experience',\n",
       " 'backed',\n",
       " 'by',\n",
       " 'one',\n",
       " 'of',\n",
       " 'the',\n",
       " 'world',\n",
       " '’',\n",
       " 's',\n",
       " 'largest',\n",
       " 'commerce',\n",
       " 'data',\n",
       " 'sets.',\n",
       " '”',\n",
       " 'a',\n",
       " 'second',\n",
       " 'tool',\n",
       " ',',\n",
       " 'find',\n",
       " 'it',\n",
       " 'on',\n",
       " 'ebay',\n",
       " ',',\n",
       " 'allows',\n",
       " 'shoppers',\n",
       " 'to',\n",
       " 'start',\n",
       " 'their',\n",
       " 'search',\n",
       " 'on',\n",
       " 'any',\n",
       " 'social',\n",
       " 'platform',\n",
       " 'or',\n",
       " 'while',\n",
       " 'browsing',\n",
       " 'the',\n",
       " 'web',\n",
       " '-like',\n",
       " 'reading',\n",
       " 'a',\n",
       " 'favorite',\n",
       " 'blog',\n",
       " 'or',\n",
       " 'website',\n",
       " ',',\n",
       " 'for',\n",
       " 'example',\n",
       " '.',\n",
       " 'they',\n",
       " 'can',\n",
       " 'then',\n",
       " '“',\n",
       " 'share',\n",
       " '”',\n",
       " 'an',\n",
       " 'image',\n",
       " 'they',\n",
       " 'find',\n",
       " 'with',\n",
       " 'ebay',\n",
       " ',',\n",
       " 'and',\n",
       " 'the',\n",
       " 'mobile',\n",
       " 'app',\n",
       " 'will',\n",
       " 'surface',\n",
       " 'similar',\n",
       " 'listings.the',\n",
       " 'company',\n",
       " 'explains',\n",
       " 'it',\n",
       " '’',\n",
       " 's',\n",
       " 'using',\n",
       " 'two',\n",
       " 'core',\n",
       " 'parts',\n",
       " 'of',\n",
       " 'artificial',\n",
       " 'intelligence',\n",
       " '–',\n",
       " 'computer',\n",
       " 'vision',\n",
       " 'and',\n",
       " 'deep',\n",
       " 'learning',\n",
       " '–',\n",
       " 'to',\n",
       " 'power',\n",
       " 'these',\n",
       " 'new',\n",
       " 'features',\n",
       " '.',\n",
       " 'when',\n",
       " 'images',\n",
       " 'are',\n",
       " 'uploaded',\n",
       " 'to',\n",
       " 'ebay',\n",
       " ',',\n",
       " 'it',\n",
       " 'uses',\n",
       " 'a',\n",
       " 'deep',\n",
       " 'learning',\n",
       " 'model',\n",
       " 'called',\n",
       " 'a',\n",
       " 'convolutional',\n",
       " 'neural',\n",
       " 'network',\n",
       " 'to',\n",
       " 'process',\n",
       " 'the',\n",
       " 'images',\n",
       " '.',\n",
       " 'the',\n",
       " 'images',\n",
       " 'are',\n",
       " 'compared',\n",
       " 'to',\n",
       " 'the',\n",
       " 'site',\n",
       " '’',\n",
       " 's',\n",
       " 'live',\n",
       " 'listings',\n",
       " ',',\n",
       " 'ranked',\n",
       " 'based',\n",
       " 'on',\n",
       " 'visual',\n",
       " 'similarity',\n",
       " ',',\n",
       " 'then',\n",
       " 'returned',\n",
       " 'quickly',\n",
       " 'using',\n",
       " 'ebay',\n",
       " '’',\n",
       " 's',\n",
       " 'open-source',\n",
       " 'kubernetes',\n",
       " 'platform.although',\n",
       " 'visual',\n",
       " 'search',\n",
       " 'is',\n",
       " 'a',\n",
       " 'trendy',\n",
       " 'new',\n",
       " 'way',\n",
       " 'to',\n",
       " 'shop',\n",
       " 'online',\n",
       " ',',\n",
       " 'its',\n",
       " 'overall',\n",
       " 'usefulness',\n",
       " 'remains',\n",
       " 'unproven',\n",
       " 'in',\n",
       " 'the',\n",
       " 'long',\n",
       " 'run',\n",
       " '.',\n",
       " 'retailers',\n",
       " 'aren',\n",
       " '’',\n",
       " 't',\n",
       " 'releasing',\n",
       " 'stats',\n",
       " 'about',\n",
       " 'how',\n",
       " 'many',\n",
       " 'image',\n",
       " 'searches',\n",
       " 'have',\n",
       " 'actually',\n",
       " 'translated',\n",
       " 'into',\n",
       " 'sales',\n",
       " ',',\n",
       " 'and',\n",
       " 'arguably',\n",
       " ',',\n",
       " 'the',\n",
       " 'results',\n",
       " 'can',\n",
       " 'be',\n",
       " 'hit',\n",
       " 'or',\n",
       " 'miss.one',\n",
       " 'of',\n",
       " 'the',\n",
       " 'problems',\n",
       " 'is',\n",
       " 'that',\n",
       " 'when',\n",
       " 'you',\n",
       " '’',\n",
       " 're',\n",
       " 'looking',\n",
       " 'at',\n",
       " 'a',\n",
       " 'fashion',\n",
       " 'item',\n",
       " 'in',\n",
       " 'a',\n",
       " 'photo',\n",
       " ',',\n",
       " 'many',\n",
       " 'times',\n",
       " 'you',\n",
       " 'want',\n",
       " 'to',\n",
       " 'find',\n",
       " 'something',\n",
       " 'just',\n",
       " 'like',\n",
       " 'it',\n",
       " '–',\n",
       " 'not',\n",
       " 'something',\n",
       " 'only',\n",
       " '“',\n",
       " 'visually',\n",
       " 'similar.',\n",
       " '”',\n",
       " 'that',\n",
       " 'is',\n",
       " ',',\n",
       " 'there',\n",
       " 'are',\n",
       " 'times',\n",
       " 'you',\n",
       " 'just',\n",
       " 'want',\n",
       " 'a',\n",
       " 'small',\n",
       " ',',\n",
       " 'red',\n",
       " 'handbag',\n",
       " 'with',\n",
       " 'a',\n",
       " 'gold',\n",
       " 'chain',\n",
       " 'and',\n",
       " 'any',\n",
       " 'ol',\n",
       " '’',\n",
       " 'handbag',\n",
       " 'of',\n",
       " 'this',\n",
       " 'nature',\n",
       " 'will',\n",
       " 'do',\n",
       " ';',\n",
       " 'then',\n",
       " 'there',\n",
       " 'are',\n",
       " 'times',\n",
       " 'when',\n",
       " 'you',\n",
       " 'want',\n",
       " 'the',\n",
       " 'exact',\n",
       " 'handbag',\n",
       " 'you',\n",
       " '’',\n",
       " 're',\n",
       " 'frothing',\n",
       " 'over',\n",
       " 'right',\n",
       " 'now',\n",
       " ',',\n",
       " 'or',\n",
       " 'something',\n",
       " 'nearly',\n",
       " 'identical.shoppers',\n",
       " 'are',\n",
       " 'also',\n",
       " 'often',\n",
       " 'interested',\n",
       " 'in',\n",
       " 'the',\n",
       " 'brand',\n",
       " 'and',\n",
       " 'quality',\n",
       " 'of',\n",
       " 'the',\n",
       " 'goods',\n",
       " 'they',\n",
       " '’',\n",
       " 're',\n",
       " 'examining',\n",
       " '.',\n",
       " 'and',\n",
       " 'while',\n",
       " 'it',\n",
       " '’',\n",
       " 's',\n",
       " 'true',\n",
       " 'that',\n",
       " 'a',\n",
       " 'pair',\n",
       " 'of',\n",
       " '$',\n",
       " '10',\n",
       " 'sunglasses',\n",
       " 'may',\n",
       " 'look',\n",
       " '“',\n",
       " 'similar',\n",
       " '”',\n",
       " 'to',\n",
       " 'the',\n",
       " '$',\n",
       " '200',\n",
       " 'ones',\n",
       " 'in',\n",
       " 'your',\n",
       " 'photo',\n",
       " ',',\n",
       " 'that',\n",
       " 'doesn',\n",
       " '’',\n",
       " 't',\n",
       " 'mean',\n",
       " 'you',\n",
       " 'want',\n",
       " 'to',\n",
       " 'buy',\n",
       " 'them.ebay',\n",
       " 'says',\n",
       " 'find',\n",
       " 'it',\n",
       " 'on',\n",
       " 'ebay',\n",
       " 'is',\n",
       " 'live',\n",
       " 'now',\n",
       " 'on',\n",
       " 'android',\n",
       " ',',\n",
       " 'and',\n",
       " 'image',\n",
       " 'search',\n",
       " 'is',\n",
       " 'live',\n",
       " 'today',\n",
       " 'on',\n",
       " 'both',\n",
       " 'android',\n",
       " 'and',\n",
       " 'ios.0crunchbaseoverviewebay',\n",
       " 'is',\n",
       " 'an',\n",
       " 'online',\n",
       " 'marketplace',\n",
       " '.',\n",
       " 'the',\n",
       " 'platform',\n",
       " 'connects',\n",
       " 'millions',\n",
       " 'of',\n",
       " 'buyers',\n",
       " 'with',\n",
       " 'sellers',\n",
       " 'globally',\n",
       " 'utilizing',\n",
       " 'paypal',\n",
       " 'to',\n",
       " 'ensure',\n",
       " 'secure',\n",
       " 'transactions',\n",
       " '.',\n",
       " 'ebay',\n",
       " 'products',\n",
       " 'can',\n",
       " 'be',\n",
       " 'sold',\n",
       " 'either',\n",
       " 'via',\n",
       " 'a',\n",
       " 'silent',\n",
       " 'auction',\n",
       " 'in',\n",
       " 'which',\n",
       " 'users',\n",
       " 'are',\n",
       " 'able',\n",
       " 'to',\n",
       " 'input',\n",
       " 'the',\n",
       " 'maximum',\n",
       " 'price',\n",
       " 'they',\n",
       " 'are',\n",
       " 'willing',\n",
       " 'to',\n",
       " 'pay',\n",
       " 'and',\n",
       " 'for',\n",
       " 'which',\n",
       " 'the',\n",
       " 'site',\n",
       " 'will',\n",
       " 'automatically',\n",
       " 'increase',\n",
       " 'bids',\n",
       " 'as',\n",
       " 'necessary',\n",
       " 'up',\n",
       " 'to',\n",
       " 'that',\n",
       " 'maximum',\n",
       " ',',\n",
       " 'or',\n",
       " 'via',\n",
       " 'the',\n",
       " 'buy',\n",
       " 'it',\n",
       " 'now',\n",
       " 'feature',\n",
       " 'that',\n",
       " 'enables',\n",
       " '…']"
      ]
     },
     "execution_count": 25,
     "metadata": {},
     "output_type": "execute_result"
    }
   ],
   "source": [
    "list_of_list_of_tokens[0]"
   ]
  },
  {
   "cell_type": "code",
   "execution_count": 26,
   "metadata": {},
   "outputs": [
    {
     "name": "stdout",
     "output_type": "stream",
     "text": [
      "Wall time: 7.94 s\n"
     ]
    }
   ],
   "source": [
    "from gensim import corpora, models\n",
    "\n",
    "# list_of_list_of_tokens = [[\"a\",\"b\",\"c\"], [\"d\",\"e\",\"f\"]]\n",
    "# [\"a\",\"b\",\"c\"] are the tokens of document 1, [\"d\",\"e\",\"f\"] are the tokens of document 2...\n",
    "dictionary_LDA = corpora.Dictionary(list_of_list_of_tokens)\n",
    "dictionary_LDA.filter_extremes(no_below=3)\n",
    "corpus = [dictionary_LDA.doc2bow(list_of_tokens) for list_of_tokens in list_of_list_of_tokens]\n",
    "\n",
    "num_topics = 10\n",
    "%time lda_model = models.LdaModel(corpus, num_topics=num_topics, \\\n",
    "                                  id2word=dictionary_LDA, \\\n",
    "                                  passes=4, alpha=[0.01]*num_topics, \\\n",
    "                                  eta=[0.01]*len(dictionary_LDA.keys()))"
   ]
  },
  {
   "cell_type": "code",
   "execution_count": 30,
   "metadata": {},
   "outputs": [
    {
     "data": {
      "text/plain": [
       "[(2, 0.25456232),\n",
       " (3, 0.24780203),\n",
       " (7, 0.18953335),\n",
       " (8, 0.14882223),\n",
       " (9, 0.1587754)]"
      ]
     },
     "execution_count": 30,
     "metadata": {},
     "output_type": "execute_result"
    }
   ],
   "source": [
    "new_text = example_doc\n",
    "lda_model[dictionary_LDA.doc2bow(word_tokenize(new_text.lower()))]\n",
    "# higher probabilities for several topics"
   ]
  },
  {
   "cell_type": "code",
   "execution_count": null,
   "metadata": {},
   "outputs": [],
   "source": []
  },
  {
   "cell_type": "markdown",
   "metadata": {},
   "source": [
    "### Get the parameters of GMM and Doc2Vec"
   ]
  },
  {
   "cell_type": "code",
   "execution_count": 17,
   "metadata": {},
   "outputs": [
    {
     "data": {
      "text/plain": [
       "{'covariance_type': 'full',\n",
       " 'init_params': 'kmeans',\n",
       " 'max_iter': 200,\n",
       " 'means_init': None,\n",
       " 'n_components': 10,\n",
       " 'n_init': 1,\n",
       " 'precisions_init': None,\n",
       " 'random_state': None,\n",
       " 'reg_covar': 1e-06,\n",
       " 'tol': 0.001,\n",
       " 'verbose': 1,\n",
       " 'verbose_interval': 10,\n",
       " 'warm_start': False,\n",
       " 'weights_init': None}"
      ]
     },
     "execution_count": 17,
     "metadata": {},
     "output_type": "execute_result"
    }
   ],
   "source": [
    "# you can get all parameters used for GMM model using the following command: \n",
    "pvtm.gmm.get_params()"
   ]
  },
  {
   "cell_type": "code",
   "execution_count": 18,
   "metadata": {},
   "outputs": [
    {
     "data": {
      "text/plain": [
       "0.004999999999999994"
      ]
     },
     "execution_count": 18,
     "metadata": {},
     "output_type": "execute_result"
    },
    {
     "data": {
      "text/plain": [
       "1"
      ]
     },
     "execution_count": 18,
     "metadata": {},
     "output_type": "execute_result"
    },
    {
     "data": {
      "text/plain": [
       "100"
      ]
     },
     "execution_count": 18,
     "metadata": {},
     "output_type": "execute_result"
    }
   ],
   "source": [
    "# you can get all parameters used for Doc2Vec model through model attribute of PVTM object\n",
    "pvtm.model.alpha\n",
    "pvtm.model.epochs\n",
    "pvtm.model.vector_size"
   ]
  },
  {
   "cell_type": "markdown",
   "metadata": {},
   "source": [
    "Get_string_vector "
   ]
  },
  {
   "cell_type": "code",
   "execution_count": 58,
   "metadata": {},
   "outputs": [
    {
     "data": {
      "text/plain": [
       "1"
      ]
     },
     "execution_count": 58,
     "metadata": {},
     "output_type": "execute_result"
    }
   ],
   "source": [
    "# inferred vector for a single document\n",
    "single_vec = pvtm.get_string_vector([input_[200]], steps=5)\n",
    "len(single_vec)"
   ]
  },
  {
   "cell_type": "code",
   "execution_count": 60,
   "metadata": {},
   "outputs": [
    {
     "data": {
      "text/plain": [
       "100"
      ]
     },
     "execution_count": 60,
     "metadata": {},
     "output_type": "execute_result"
    },
    {
     "data": {
      "text/plain": [
       "array([ 0.04684056,  0.14133139, -0.00496691, -0.1861234 ,  0.17759259,\n",
       "       -0.09649211,  0.0609069 ,  0.09378838, -0.09790532, -0.10807555,\n",
       "       -0.04836304, -0.09770676, -0.10593414, -0.04752913,  0.09071913,\n",
       "       -0.08492909,  0.0527546 , -0.03867599, -0.05341693, -0.06007425,\n",
       "       -0.19232059, -0.07231803,  0.01375675, -0.168982  , -0.09581786,\n",
       "        0.26426685, -0.04842913,  0.24463744, -0.00676416,  0.14500538,\n",
       "       -0.06321428,  0.0470813 ,  0.00423523,  0.02144458, -0.02425396,\n",
       "        0.08099081,  0.09274969,  0.08625547, -0.05161489, -0.07657474,\n",
       "       -0.07112727,  0.05893173, -0.11518568, -0.2876198 , -0.06033962,\n",
       "        0.12267914, -0.1053746 ,  0.07578898,  0.07116701, -0.05537633,\n",
       "        0.03593743,  0.02754932,  0.14713657,  0.09179115,  0.18269649,\n",
       "       -0.00159809,  0.02263158, -0.00108536,  0.17493281, -0.06773901,\n",
       "       -0.28113538, -0.04907923,  0.08682804, -0.14610954,  0.02603371,\n",
       "       -0.13127121, -0.06449293,  0.00600136,  0.16858773, -0.11214206,\n",
       "        0.08018818,  0.03793403, -0.0761475 ,  0.22066981, -0.2692579 ,\n",
       "        0.04964465,  0.03499373, -0.10338206, -0.08649639, -0.12108842,\n",
       "       -0.1452186 , -0.17954178, -0.24534346,  0.21147928,  0.04792339,\n",
       "        0.10060099, -0.00300435,  0.02649113,  0.19816427, -0.04228988,\n",
       "        0.00159995, -0.10955318, -0.03786064,  0.06387541,  0.09359666,\n",
       "        0.1789532 ,  0.00702416, -0.05763764, -0.01205095, -0.03218527], dtype=float32)"
      ]
     },
     "execution_count": 60,
     "metadata": {},
     "output_type": "execute_result"
    }
   ],
   "source": [
    "len(single_vec[0])\n",
    "single_vec[0]"
   ]
  },
  {
   "cell_type": "code",
   "execution_count": 65,
   "metadata": {},
   "outputs": [
    {
     "name": "stdout",
     "output_type": "stream",
     "text": [
      "[(43, 0.9868135452270508), (32, 0.9857877492904663), (88, 0.9836201667785645), (52, 0.9824504256248474), (146, 0.9809092283248901), (142, 0.9789059162139893), (81, 0.9777770042419434), (128, 0.975104033946991), (144, 0.9744727611541748), (121, 0.9743627309799194)]\n"
     ]
    }
   ],
   "source": [
    "print(pvtm.model.docvecs.most_similar(positive=[single_vec[0]], topn=10))"
   ]
  },
  {
   "cell_type": "code",
   "execution_count": 66,
   "metadata": {},
   "outputs": [
    {
     "data": {
      "text/plain": [
       "'About TNWTNW SitesEarlier this summer, Razer came into the spotlight following reports hinting the gaming hardware manufacturer is gearing up to make a foray into the smartphone market. But thanks to a leak from a British website 3G, now we have a better idea of what to expect from its upcoming handset.As spotted by Redditors, 3G accidentally lifted the lid on the Razer Phone slightly ahead of its advertised November 1 release date, along with a hefty chunk of the device’s list of specs. The website has already taken the page down, but the internet was swift to screenshot and archive the page for the rest of us to see.As you can observe, the device packs quite a punch. The handset will feature a 5.72-inch IGZO display with 120Hz refresh rate and support for Wide Color Gamut. It will also sport dual front-facing speakers, powered by Dolby’s ATMOS sound system.In addition to this, the Razer Phone will come with 8GB RAM, a 4,000mAh battery and a dual camera setup – a 12MP wide-angle shooter and a 13MP zoom camera with F2.6 aperture.'"
      ]
     },
     "execution_count": 66,
     "metadata": {},
     "output_type": "execute_result"
    },
    {
     "data": {
      "text/plain": [
       "'iPhone X repair fees are absolutely bonkers, even for AppleX is for expensiveSharesSo you thought the iPhone X itself was expensive? Just wait until you see the repair costs.As MacRumors discovered, today Apple updated its non-warranty servicing pricingfor the iPhone X, just in time for today\\'s preorders. Judging from the numbers, it\\'s probably a good thing they didn\\'t update it earlier as they may have scared off potential buyers.One of the standout features of the iPhone X is that fancy new OLED screen, which should save power and render images in brighter, crisper colors.Unfortunately, that means it\\'s going to cost you $279 in the US to replace it if you shatter it. Compare that to the iPhone 8 Plus, which will only set you back $169 if you break the screen (and that\\'s the same price you\\'ll pay for breaking the screen of the older iPhone 7 Plus).It gets far, far worse if you have to repair any of the rest of it, likely because of that all-glass back that Apple included so the device would support wireless charging. Specifically, any \"other damage\" costs $549 to repair, which is crazy for a device that already costs $1,000.Outside the US, non-warranty screen repairs will run you £286, AU$419 or CA$359, while anything in the \"other damages\" category will run you £556, AU$819 or CA$709, depending on where you live.A breaking point?You can avoid these obscene prices if you pick up Apple\\'s $199/£199/AU$299 AppleCare+ plan, which allows you to get relatively inexpensive out-of-warranty repairs for two years from the data of purchase.Under the plan (which is more expensive for the iPhone X than earlier models), you\\'d only have to pay $29/£25/AU$45 for screen repairs and $99/£79/AU$149 for other damage.That\\'s especially worthwhile if you end up dealing with the dreaded \"other damage,\" as the cost of AppleCare+ and the repair cost together would only amount to $298/£278/AU$448. Apple clearly wants you to pick up its plan.'"
      ]
     },
     "execution_count": 66,
     "metadata": {},
     "output_type": "execute_result"
    }
   ],
   "source": [
    "input_[200]\n",
    "input_[43]"
   ]
  },
  {
   "cell_type": "code",
   "execution_count": 62,
   "metadata": {},
   "outputs": [
    {
     "data": {
      "text/plain": [
       "5"
      ]
     },
     "execution_count": 62,
     "metadata": {},
     "output_type": "execute_result"
    }
   ],
   "source": [
    "# inferred vectors for a list of documents\n",
    "vecs = pvtm.get_string_vector(input_[200:205], steps=5)\n",
    "len(vecs)"
   ]
  },
  {
   "cell_type": "code",
   "execution_count": 64,
   "metadata": {},
   "outputs": [
    {
     "data": {
      "text/plain": [
       "100"
      ]
     },
     "execution_count": 64,
     "metadata": {},
     "output_type": "execute_result"
    },
    {
     "data": {
      "text/plain": [
       "array([  5.09130843e-02,   1.40722260e-01,  -5.35247242e-03,\n",
       "        -1.87502295e-01,   1.79339826e-01,  -8.45433623e-02,\n",
       "         5.93018457e-02,   9.03619006e-02,  -1.00042433e-01,\n",
       "        -1.12779647e-01,  -5.14019094e-02,  -8.98042023e-02,\n",
       "        -9.78106111e-02,  -4.43592705e-02,   1.00953549e-01,\n",
       "        -7.58696720e-02,   6.09666519e-02,  -3.67954634e-02,\n",
       "        -5.48485294e-02,  -6.27215654e-02,  -1.92541495e-01,\n",
       "        -7.13816732e-02,   1.79753918e-02,  -1.69720381e-01,\n",
       "        -9.98324752e-02,   2.60460109e-01,  -4.73468304e-02,\n",
       "         2.42547527e-01,  -1.01582054e-02,   1.47344232e-01,\n",
       "        -6.35619611e-02,   5.43319359e-02,  -4.16540832e-04,\n",
       "         2.51559857e-02,  -3.10109705e-02,   7.81144872e-02,\n",
       "         9.05179232e-02,   8.46207663e-02,  -5.13349175e-02,\n",
       "        -7.75949955e-02,  -7.08363205e-02,   5.27085997e-02,\n",
       "        -1.15838267e-01,  -2.85108238e-01,  -5.86819537e-02,\n",
       "         1.20039806e-01,  -1.13153554e-01,   7.90472552e-02,\n",
       "         7.00015202e-02,  -5.77616952e-02,   3.31102237e-02,\n",
       "         2.83426940e-02,   1.52156502e-01,   9.60856825e-02,\n",
       "         1.80735558e-01,  -9.19501006e-04,   2.18413863e-02,\n",
       "        -4.32647904e-03,   1.75124869e-01,  -7.02305660e-02,\n",
       "        -2.83526778e-01,  -5.07128388e-02,   8.45710039e-02,\n",
       "        -1.46856651e-01,   2.29575653e-02,  -1.34179220e-01,\n",
       "        -6.65911660e-02,   6.41925214e-03,   1.65486827e-01,\n",
       "        -1.03910290e-01,   7.54297674e-02,   3.99850160e-02,\n",
       "        -7.32666254e-02,   2.10910261e-01,  -2.70567596e-01,\n",
       "         5.09517193e-02,   3.35808918e-02,  -1.02372035e-01,\n",
       "        -8.44917074e-02,  -1.11990370e-01,  -1.48120821e-01,\n",
       "        -1.74751759e-01,  -2.44013488e-01,   2.07974419e-01,\n",
       "         4.52601872e-02,   9.66295302e-02,   1.77219656e-04,\n",
       "         1.66142881e-02,   1.96582973e-01,  -4.22980264e-02,\n",
       "         9.17816069e-03,  -1.04667686e-01,  -4.18676622e-02,\n",
       "         6.29391819e-02,   9.45326686e-02,   1.73549891e-01,\n",
       "         3.70171433e-03,  -6.35249242e-02,  -1.40538728e-02,\n",
       "        -3.13295387e-02], dtype=float32)"
      ]
     },
     "execution_count": 64,
     "metadata": {},
     "output_type": "execute_result"
    }
   ],
   "source": [
    "len(vecs[0])\n",
    "vecs[0]"
   ]
  },
  {
   "cell_type": "code",
   "execution_count": null,
   "metadata": {},
   "outputs": [],
   "source": []
  },
  {
   "cell_type": "code",
   "execution_count": null,
   "metadata": {},
   "outputs": [],
   "source": []
  },
  {
   "cell_type": "code",
   "execution_count": null,
   "metadata": {},
   "outputs": [],
   "source": []
  },
  {
   "cell_type": "code",
   "execution_count": 174,
   "metadata": {},
   "outputs": [
    {
     "data": {
      "text/plain": [
       "<matplotlib.axes._subplots.AxesSubplot at 0x2a05a757ac8>"
      ]
     },
     "execution_count": 174,
     "metadata": {},
     "output_type": "execute_result"
    },
    {
     "data": {
      "image/png": "[encoded data removed]",
      "text/plain": [
       "<Figure size 576x288 with 1 Axes>"
      ]
     },
     "metadata": {
      "needs_background": "light"
     },
     "output_type": "display_data"
    }
   ],
   "source": [
    "import matplotlib.pyplot as plt\n",
    "import numpy as np\n",
    "\n",
    "x = np.linspace(0, 1, 10)\n",
    "number = n_topics\n",
    "cmap = plt.get_cmap('hsv')\n",
    "colors = [cmap(i) for i in np.linspace(0, 1, number)]\n",
    "\n",
    "\n",
    "topic_probas = pvtm.gmm.predict_proba(pvtm.doc_vectors)\n",
    "\n",
    "df['day']= pd.to_datetime(df.date).dt.ceil('D')\n",
    "df['day']= df.day.apply(lambda x: x-pd.DateOffset(weekday=0,weeks=1))\n",
    "df['idx'] = df.index.values\n",
    "topics_over_time = pd.DataFrame([topic_probas[row].mean(axis=0) for row in df.groupby('day').idx.apply(list).values])\n",
    "topics_over_time['date'] = df.groupby('day').day.apply(list).index.values\n",
    "topics_over_time['date'] = pd.to_datetime(topics_over_time['date'])\n",
    "topics_over_time = topics_over_time.set_index('date')\n",
    "topics_over_time.plot(kind='bar', stacked=True, figsize=(8,4), color=colors)"
   ]
  },
  {
   "cell_type": "code",
   "execution_count": 176,
   "metadata": {},
   "outputs": [
    {
     "data": {
      "text/plain": [
       "<matplotlib.axes._subplots.AxesSubplot at 0x2a05aca16d8>"
      ]
     },
     "execution_count": 176,
     "metadata": {},
     "output_type": "execute_result"
    },
    {
     "data": {
      "image/png": "[encoded data removed]",
      "text/plain": [
       "<Figure size 576x288 with 1 Axes>"
      ]
     },
     "metadata": {
      "needs_background": "light"
     },
     "output_type": "display_data"
    }
   ],
   "source": [
    "topics_over_time.plot(kind='line', stacked=False, figsize=(8,4), color=colors)"
   ]
  },
  {
   "cell_type": "markdown",
   "metadata": {},
   "source": [
    "# LDA"
   ]
  },
  {
   "cell_type": "code",
   "execution_count": 20,
   "metadata": {},
   "outputs": [
    {
     "data": {
      "text/plain": [
       "(21800, 9)"
      ]
     },
     "execution_count": 20,
     "metadata": {},
     "output_type": "execute_result"
    }
   ],
   "source": [
    "df.shape"
   ]
  },
  {
   "cell_type": "code",
   "execution_count": 21,
   "metadata": {},
   "outputs": [
    {
     "name": "stdout",
     "output_type": "stream",
     "text": [
      "Wall time: 14.2 s\n",
      "Wall time: 1.88 s\n",
      "(21800, 2110)\n"
     ]
    }
   ],
   "source": [
    "from cleantext import clean\n",
    "from sklearn.feature_extraction.text import TfidfVectorizer\n",
    "from sklearn.decomposition import LatentDirichletAllocation\n",
    "import numpy as np\n",
    "\n",
    "def print_top_words(model, feature_names, n_top_words):\n",
    "    for topic_idx, topic in enumerate(model.components_):\n",
    "        print(\"Topic #%d:\" % topic_idx)\n",
    "        print(\" \".join([feature_names[i]\n",
    "                        for i in topic.argsort()[:-n_top_words - 1:-1]]))\n",
    "    print()\n",
    "    \n",
    "    \n",
    "def clean_text(text):\n",
    "    return clean(text,\n",
    "                fix_unicode=True,              # fix various unicode errors\n",
    "                to_ascii=True,                 # transliterate to closest ASCII representation\n",
    "                lower=False,                   # lowercase text\n",
    "                no_line_breaks=True,           # fully strip line breaks as opposed to only normalizing them\n",
    "                no_urls=True,                  # replace all URLs with a special token\n",
    "                no_emails=True,                # replace all email addresses with a special token\n",
    "                no_phone_numbers=True,         # replace all phone numbers with a special token\n",
    "                no_numbers=True,               # replace all numbers with a special token\n",
    "                no_digits=True,                # replace all digits with a special token\n",
    "                no_currency_symbols=True,      # replace all currency symbols with a special token\n",
    "                no_punct=False,                 # fully remove punctuation\n",
    "                replace_with_url=\"<URL>\",\n",
    "                replace_with_email=\"<EMAIL>\",\n",
    "                replace_with_phone_number=\"<PHONE>\",\n",
    "                replace_with_number=\"<NUMBER>\",\n",
    "                replace_with_digit=\"0\",\n",
    "                replace_with_currency_symbol=\"<CUR>\",\n",
    "                lang=\"en\"                       # set to 'de' for German special handling\n",
    "            )\n",
    "\n",
    "   \n",
    "# Load data and get tfidf vecs\n",
    "x = df['body'].values#[:100]\n",
    "%time x = [clean_text(xx) for xx in x]\n",
    "tfidf = TfidfVectorizer(min_df = 0.005, max_df = 0.5)\n",
    "%time xvecs = tfidf.fit_transform(x)\n",
    "print(xvecs.shape)"
   ]
  },
  {
   "cell_type": "code",
   "execution_count": 22,
   "metadata": {},
   "outputs": [
    {
     "name": "stdout",
     "output_type": "stream",
     "text": [
      "Wall time: 24min 16s\n"
     ]
    },
    {
     "data": {
      "text/plain": [
       "LatentDirichletAllocation(batch_size=128, doc_topic_prior=None,\n",
       "                          evaluate_every=-1, learning_decay=0.7,\n",
       "                          learning_method='batch', learning_offset=10.0,\n",
       "                          max_doc_update_iter=100, max_iter=500,\n",
       "                          mean_change_tol=0.001, n_components=10, n_jobs=None,\n",
       "                          perp_tol=0.1, random_state=None,\n",
       "                          topic_word_prior=None, total_samples=1000000.0,\n",
       "                          verbose=0)"
      ]
     },
     "execution_count": 22,
     "metadata": {},
     "output_type": "execute_result"
    },
    {
     "name": "stdout",
     "output_type": "stream",
     "text": [
      "Topic #0:\n",
      "fur number man fahren zu mehr mit ein auto\n",
      "Topic #1:\n",
      "fur gut schutzt inwiefern man besser sind auch zerstort\n",
      "Topic #2:\n",
      "fur wir ja es zu klima auch um geht\n",
      "Topic #3:\n",
      "ich du es zu auch man aber fur wenn\n",
      "Topic #4:\n",
      "fur bio url es auch als naturschutz bau zu\n",
      "Topic #5:\n",
      "zuliebe an fur sich du sie bitte ich zu\n",
      "Topic #6:\n",
      "number url flair de nachrichten top pos reddit humor\n",
      "Topic #7:\n",
      "zu es von den auch ich dass number fur\n",
      "Topic #8:\n",
      "the to of and is it url that you\n",
      "Topic #9:\n",
      "grunen partei cdu spd fdp afd wahlen parteien grune\n",
      "\n"
     ]
    }
   ],
   "source": [
    "lda1 = LatentDirichletAllocation(n_components=10, max_iter=500)\n",
    "%time lda1.fit(xvecs)\n",
    "# get lda topic word distributions\n",
    "topics1 = lda1.components_\n",
    "# lda index to words\n",
    "tf_feature_names = tfidf.get_feature_names()\n",
    "print_top_words(lda1, tf_feature_names, 9)"
   ]
  },
  {
   "cell_type": "code",
   "execution_count": 24,
   "metadata": {},
   "outputs": [
    {
     "data": {
      "text/plain": [
       "<matplotlib.axes._subplots.AxesSubplot at 0x27c3f42f160>"
      ]
     },
     "execution_count": 24,
     "metadata": {},
     "output_type": "execute_result"
    },
    {
     "data": {
      "image/png": "[encoded data removed]",
      "text/plain": [
       "<Figure size 576x2160 with 1 Axes>"
      ]
     },
     "metadata": {
      "needs_background": "light"
     },
     "output_type": "display_data"
    }
   ],
   "source": [
    "topic_probas = lda1.transform(xvecs)\n",
    "\n",
    "# df = df.iloc[:100]\n",
    "\n",
    "df['day']= pd.to_datetime(df.date).dt.ceil('D')\n",
    "df['day']= df.day.apply(lambda x: x-pd.DateOffset(weekday=0,weeks=1))\n",
    "df['idx'] = df.index.values\n",
    "topics_over_time = pd.DataFrame([topic_probas[row].mean(axis=0) for row in df.groupby('day').idx.apply(list).values])\n",
    "topics_over_time['date'] = df.groupby('day').day.apply(list).index.values\n",
    "topics_over_time['date'] = pd.to_datetime(topics_over_time['date'])\n",
    "topics_over_time = topics_over_time.set_index('date')\n",
    "topics_over_time.plot(kind='barh', stacked=True, figsize=(8,30))"
   ]
  },
  {
   "cell_type": "code",
   "execution_count": null,
   "metadata": {},
   "outputs": [],
   "source": []
  }
 ],
 "metadata": {
  "kernelspec": {
   "display_name": "pvtm",
   "language": "python",
   "name": "pvtm"
  },
  "language_info": {
   "codemirror_mode": {
    "name": "ipython",
    "version": 3
   },
   "file_extension": ".py",
   "mimetype": "text/x-python",
   "name": "python",
   "nbconvert_exporter": "python",
   "pygments_lexer": "ipython3",
   "version": "3.6.0"
  }
 },
 "nbformat": 4,
 "nbformat_minor": 2
}
